{
 "metadata": {
  "name": ""
 },
 "nbformat": 3,
 "nbformat_minor": 0,
 "worksheets": [
  {
   "cells": [
    {
     "cell_type": "code",
     "collapsed": false,
     "input": [
      "import numpy as np\n",
      "import pandas as pd\n",
      "from os import listdir\n",
      "from os.path import isfile, join\n",
      "from sklearn.ensemble import RandomForestClassifier\n",
      "from sklearn.multiclass import OneVsRestClassifier\n",
      "from sklearn.svm import LinearSVC\n",
      "from sklearn import neighbors\n",
      "from sklearn.naive_bayes import GaussianNB\n",
      "from sklearn.ensemble import GradientBoostingClassifier\n",
      "from sklearn.semi_supervised import LabelPropagation"
     ],
     "language": "python",
     "metadata": {},
     "outputs": [],
     "prompt_number": 236
    },
    {
     "cell_type": "code",
     "collapsed": false,
     "input": [
      "#read all seapearl files\n",
      "onlyfiles = [f for f in listdir('.') if (isfile(join('.', f)) and 'pearl' in f)]\n",
      "onlyfiles.sort()\n",
      "\n",
      "outputFileName = 'eachRowTimeSeries.txt'\n",
      "\n",
      "##############################\n",
      "#for each of the files, extract sensor data (=Tamb)\n",
      "\n",
      "for f in onlyfiles:\n",
      "\tprint f\n",
      "\n",
      "\tdf = pd.read_table(f, delim_whitespace=True)\n",
      "\n",
      "\t#get COLUMN (SENSOR) OF INTEREST, here SENSOR = Tamb\n",
      "\tdf_select = df.loc[df['sensor'].isin(['Tamb'])]\n",
      "\n",
      "\t#print number of data points in timeseries\n",
      "\tprint df_select.shape\n",
      "\t \n",
      "\t#delete extra columns\n",
      "\tdel df_select['time'] \n",
      "\tdel df_select['node'] \n",
      "\tdel df_select['sensor']\n",
      "\t \n",
      "\t#transpose &\n",
      "\t#append to CSV\n",
      "\tdf_select[1:160000:100].T.to_csv(outputFileName, header=False, index=False, mode='a')\n",
      "\tdel df\n",
      "\tdel df_select\n",
      " \n",
      "##############################\n",
      "#the order of files printed gives label for each row from start of file"
     ],
     "language": "python",
     "metadata": {},
     "outputs": [
      {
       "output_type": "stream",
       "stream": "stdout",
       "text": [
        "pi02-seapearl.txt\n",
        "(180000, 4)"
       ]
      },
      {
       "output_type": "stream",
       "stream": "stdout",
       "text": [
        "\n",
        "pi03-seapearl.txt\n",
        "(180000, 4)"
       ]
      },
      {
       "output_type": "stream",
       "stream": "stdout",
       "text": [
        "\n",
        "pi06-seapearl.txt\n",
        "(180000, 4)"
       ]
      },
      {
       "output_type": "stream",
       "stream": "stdout",
       "text": [
        "\n",
        "pi08-seapearl.txt\n",
        "(180000, 4)"
       ]
      },
      {
       "output_type": "stream",
       "stream": "stdout",
       "text": [
        "\n",
        "pi12-seapearl.txt\n",
        "(180000, 4)"
       ]
      },
      {
       "output_type": "stream",
       "stream": "stdout",
       "text": [
        "\n",
        "pi13-seapearl.txt"
       ]
      },
      {
       "output_type": "stream",
       "stream": "stdout",
       "text": [
        "\n",
        "(180000, 4)"
       ]
      },
      {
       "output_type": "stream",
       "stream": "stdout",
       "text": [
        "\n",
        "pi14-seapearl.txt\n",
        "(178190, 4)"
       ]
      },
      {
       "output_type": "stream",
       "stream": "stdout",
       "text": [
        "\n",
        "pi15-seapearl.txt\n",
        "(180000, 4)"
       ]
      },
      {
       "output_type": "stream",
       "stream": "stdout",
       "text": [
        "\n",
        "pi16-seapearl.txt\n",
        "(180000, 4)"
       ]
      },
      {
       "output_type": "stream",
       "stream": "stdout",
       "text": [
        "\n",
        "pi18-seapearl.txt\n",
        "(180000, 4)"
       ]
      },
      {
       "output_type": "stream",
       "stream": "stdout",
       "text": [
        "\n",
        "pi19-seapearl.txt\n",
        "(180000, 4)"
       ]
      },
      {
       "output_type": "stream",
       "stream": "stdout",
       "text": [
        "\n",
        "pi20-seapearl.txt"
       ]
      },
      {
       "output_type": "stream",
       "stream": "stdout",
       "text": [
        "\n",
        "(180000, 4)"
       ]
      },
      {
       "output_type": "stream",
       "stream": "stdout",
       "text": [
        "\n",
        "pi21-seapearl.txt\n",
        "(180000, 4)"
       ]
      },
      {
       "output_type": "stream",
       "stream": "stdout",
       "text": [
        "\n",
        "pi22-seapearl.txt\n",
        "(180000, 4)"
       ]
      },
      {
       "output_type": "stream",
       "stream": "stdout",
       "text": [
        "\n",
        "pi24-seapearl.txt\n",
        "(180000, 4)"
       ]
      },
      {
       "output_type": "stream",
       "stream": "stdout",
       "text": [
        "\n",
        "pi25-seapearl.txt\n",
        "(180000, 4)"
       ]
      },
      {
       "output_type": "stream",
       "stream": "stdout",
       "text": [
        "\n",
        "pi26-seapearl.txt\n",
        "(179980, 4)"
       ]
      },
      {
       "output_type": "stream",
       "stream": "stdout",
       "text": [
        "\n",
        "pi27-seapearl.txt"
       ]
      },
      {
       "output_type": "stream",
       "stream": "stdout",
       "text": [
        "\n",
        "(180000, 4)"
       ]
      },
      {
       "output_type": "stream",
       "stream": "stdout",
       "text": [
        "\n",
        "pi28-seapearl.txt\n",
        "(180000, 4)"
       ]
      },
      {
       "output_type": "stream",
       "stream": "stdout",
       "text": [
        "\n",
        "pi29-seapearl.txt\n",
        "(180000, 4)"
       ]
      },
      {
       "output_type": "stream",
       "stream": "stdout",
       "text": [
        "\n",
        "pi30-seapearl.txt\n",
        "(180000, 4)"
       ]
      },
      {
       "output_type": "stream",
       "stream": "stdout",
       "text": [
        "\n",
        "pi31-seapearl.txt\n",
        "(180000, 4)"
       ]
      },
      {
       "output_type": "stream",
       "stream": "stdout",
       "text": [
        "\n",
        "pi32-seapearl.txt\n",
        "(180000, 4)"
       ]
      },
      {
       "output_type": "stream",
       "stream": "stdout",
       "text": [
        "\n",
        "pi33-seapearl.txt"
       ]
      },
      {
       "output_type": "stream",
       "stream": "stdout",
       "text": [
        "\n",
        "(180000, 4)"
       ]
      },
      {
       "output_type": "stream",
       "stream": "stdout",
       "text": [
        "\n",
        "pi34-seapearl.txt\n",
        "(169910, 4)"
       ]
      },
      {
       "output_type": "stream",
       "stream": "stdout",
       "text": [
        "\n",
        "pi35-seapearl.txt\n",
        "(169820, 4)"
       ]
      },
      {
       "output_type": "stream",
       "stream": "stdout",
       "text": [
        "\n",
        "pi36-seapearl.txt\n",
        "(169820, 4)"
       ]
      },
      {
       "output_type": "stream",
       "stream": "stdout",
       "text": [
        "\n",
        "pi37-seapearl.txt\n",
        "(169910, 4)"
       ]
      },
      {
       "output_type": "stream",
       "stream": "stdout",
       "text": [
        "\n",
        "pi38-seapearl.txt\n",
        "(169910, 4)"
       ]
      },
      {
       "output_type": "stream",
       "stream": "stdout",
       "text": [
        "\n",
        "pi39-seapearl.txt"
       ]
      },
      {
       "output_type": "stream",
       "stream": "stdout",
       "text": [
        "\n",
        "(169920, 4)"
       ]
      },
      {
       "output_type": "stream",
       "stream": "stdout",
       "text": [
        "\n",
        "pi40-seapearl.txt"
       ]
      },
      {
       "output_type": "stream",
       "stream": "stdout",
       "text": [
        "\n",
        "(169850, 4)"
       ]
      },
      {
       "output_type": "stream",
       "stream": "stdout",
       "text": [
        "\n",
        "pi41-seapearl.txt\n",
        "(169780, 4)"
       ]
      },
      {
       "output_type": "stream",
       "stream": "stdout",
       "text": [
        "\n",
        "pi42-seapearl.txt\n",
        "(169910, 4)"
       ]
      },
      {
       "output_type": "stream",
       "stream": "stdout",
       "text": [
        "\n",
        "pi43-seapearl.txt\n",
        "(169530, 4)"
       ]
      },
      {
       "output_type": "stream",
       "stream": "stdout",
       "text": [
        "\n",
        "pi45-seapearl.txt\n",
        "(169717, 4)"
       ]
      },
      {
       "output_type": "stream",
       "stream": "stdout",
       "text": [
        "\n",
        "pi47-seapearl.txt\n",
        "(169510, 4)"
       ]
      },
      {
       "output_type": "stream",
       "stream": "stdout",
       "text": [
        "\n",
        "pi48-seapearl.txt"
       ]
      },
      {
       "output_type": "stream",
       "stream": "stdout",
       "text": [
        "\n",
        "(169550, 4)"
       ]
      },
      {
       "output_type": "stream",
       "stream": "stdout",
       "text": [
        "\n"
       ]
      }
     ],
     "prompt_number": 87
    },
    {
     "cell_type": "code",
     "collapsed": false,
     "input": [
      "df = pd.read_table('dwtFeatures_TAmb.csv', delimiter=\",\")\n",
      "df = df.drop(df.columns[[0]], axis=1)\n",
      "#model= OneVsRestClassifier(RandomForestClassifier(n_estimators=15000, n_jobs=-1),n_jobs=-1)\n",
      "#model=GradientBoostingClassifier(n_estimators=15000, learning_rate=0.1,max_depth=100, random_state=0)\n",
      "model= LabelPropagation()"
     ],
     "language": "python",
     "metadata": {},
     "outputs": [],
     "prompt_number": 180
    },
    {
     "cell_type": "code",
     "collapsed": false,
     "input": [
      "df['classId']=[1,1,1,1,2,2,2,2,3,3,3,1,1,1,1,2,2,2,2,3,3,3,3,1,1,1,1,1,2,2,2,2,2,3,3,3,3]\t\n",
      "df2 = df.reindex(np.random.permutation(df.index))\n",
      "df  = df2"
     ],
     "language": "python",
     "metadata": {},
     "outputs": [],
     "prompt_number": 181
    },
    {
     "cell_type": "code",
     "collapsed": false,
     "input": [
      "np.random.seed()\n",
      "df['is_train']=np.random.uniform(0,1,len(df)) <= .70\n",
      "train, test = df[df['is_train']==True], df[df['is_train']==False]\n",
      "del df['is_train']\n",
      "len(train)*1.0 / (len(test)+len(train))"
     ],
     "language": "python",
     "metadata": {},
     "outputs": [
      {
       "metadata": {},
       "output_type": "pyout",
       "prompt_number": 182,
       "text": [
        "0.7567567567567568"
       ]
      }
     ],
     "prompt_number": 182
    },
    {
     "cell_type": "code",
     "collapsed": false,
     "input": [
      "features = df.columns[1:]\n",
      "target = df.columns[0]\n",
      "model.fit(train[features], train[target].values)"
     ],
     "language": "python",
     "metadata": {},
     "outputs": [
      {
       "metadata": {},
       "output_type": "pyout",
       "prompt_number": 183,
       "text": [
        "LabelPropagation(alpha=1, gamma=20, kernel='rbf', max_iter=30, n_neighbors=7,\n",
        "         tol=0.001)"
       ]
      }
     ],
     "prompt_number": 183
    },
    {
     "cell_type": "code",
     "collapsed": false,
     "input": [
      "preds = model.predict(test[features])\n",
      "testLabels = test[target].as_matrix()\n",
      "sum(preds == testLabels)*1.0 / len(preds)"
     ],
     "language": "python",
     "metadata": {},
     "outputs": [
      {
       "metadata": {},
       "output_type": "pyout",
       "prompt_number": 184,
       "text": [
        "0.77777777777777779"
       ]
      }
     ],
     "prompt_number": 184
    },
    {
     "cell_type": "code",
     "collapsed": false,
     "input": [
      "import cPickle"
     ],
     "language": "python",
     "metadata": {},
     "outputs": [],
     "prompt_number": 94
    },
    {
     "cell_type": "code",
     "collapsed": false,
     "input": [
      "with open('TMB-Height_Clfr_Train75pc_Acc77pc_LabelProp.pk1','wb') as fid:\n",
      "    cPickle.dump(model,fid)"
     ],
     "language": "python",
     "metadata": {},
     "outputs": [],
     "prompt_number": 185
    },
    {
     "cell_type": "code",
     "collapsed": false,
     "input": [
      "with open('Rack_RF_Clfr_Train40pc_Acc90pc.pk1', 'rb') as fid:\n",
      "    model = cPickle.load(fid)"
     ],
     "language": "python",
     "metadata": {},
     "outputs": [],
     "prompt_number": 143
    },
    {
     "cell_type": "code",
     "collapsed": false,
     "input": [],
     "language": "python",
     "metadata": {},
     "outputs": []
    }
   ],
   "metadata": {}
  }
 ]
}