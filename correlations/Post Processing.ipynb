{
 "metadata": {
  "name": ""
 },
 "nbformat": 3,
 "nbformat_minor": 0,
 "worksheets": [
  {
   "cells": [
    {
     "cell_type": "code",
     "collapsed": false,
     "input": [
      "import numpy as np\n",
      "import pandas as pd \n",
      "from os import listdir\n",
      "from os.path import isfile, join\n",
      "from scipy.stats.stats import spearmanr\n",
      "from scipy.stats.stats import pearsonr\n",
      "%matplotlib inline\n",
      "import matplotlib.pyplot as plt\n",
      "import statsmodels.api as sm\n",
      "import seaborn as sb"
     ],
     "language": "python",
     "metadata": {},
     "outputs": [],
     "prompt_number": 1
    },
    {
     "cell_type": "code",
     "collapsed": false,
     "input": [
      "#read all seapearl files\n",
      "perNodefiles = [f for f in listdir('.') if (isfile(join('.', f)) and 'pearl' in f)]\n",
      "perNodefiles.sort()"
     ],
     "language": "python",
     "metadata": {},
     "outputs": [],
     "prompt_number": 2
    },
    {
     "cell_type": "code",
     "collapsed": false,
     "input": [
      "sensors =[\"Tamb\", \"CPU1\", \"MEM1\", \"CPU2\", \"MEM2\", \"ATX12\", \"ATX5\", \"ATX5sb\", \"ATX3.3\", \"HDD12\", \"HDD5\", \"Tina\", \"Tinb\",\"Tcpu1\", \"Tcpu2\", \"Thca\", \"Tmem1\", \"Tmem2\", \"Tout\"]"
     ],
     "language": "python",
     "metadata": {},
     "outputs": [],
     "prompt_number": 3
    },
    {
     "cell_type": "code",
     "collapsed": true,
     "input": [
      "#for each of the files, extract sensor data (=Tamb)\n",
      "timeseriesdict = dict()\n",
      "counter = 1\n",
      "for nodeFile in perNodefiles:\n",
      "    #read the file for this node\n",
      "    print nodeFile\n",
      "    df = pd.read_table(nodeFile, delim_whitespace=True)\n",
      "    for givenSensor in sensors:       \n",
      "            #create new dataframe for hashmap\n",
      "            if (++counter) % 100 == 0:\n",
      "                print counter\n",
      "            #print \"looking for :\" + givenSensor\n",
      "            view = df.loc[df['sensor'].isin([givenSensor])] #[0:160000]\n",
      "            df_select = pd.DataFrame(view.values.copy(), view.index.copy(), view.columns.copy())\n",
      "            #print df_select.shape\n",
      "        \n",
      "            #print number of data points in timeseries\n",
      "            if (len(df_select['node']) == 0):\n",
      "                continue\n",
      "            KEY = (df_select['node'].iloc[0], df_select['sensor'].iloc[0]) #tuple\n",
      "            #print nodeFile, givenSensor\n",
      "            #print KEY\n",
      "            \n",
      "            del df_select['node']\n",
      "            del df_select['sensor']\n",
      "            \n",
      "            #add to hashmap\n",
      "            timeseriesdict[KEY] = df_select\n",
      "            del df_select #only deletes the pointer to object\n",
      "            #print '---------------------------'\n",
      "     \n",
      "    ##############################\n",
      "    #the order of files printed gives label for each row from start of file"
     ],
     "language": "python",
     "metadata": {},
     "outputs": [
      {
       "output_type": "stream",
       "stream": "stdout",
       "text": [
        "pi02-seapearl.txt\n",
        "pi03-seapearl.txt"
       ]
      },
      {
       "output_type": "stream",
       "stream": "stdout",
       "text": [
        "\n",
        "pi06-seapearl.txt"
       ]
      },
      {
       "output_type": "stream",
       "stream": "stdout",
       "text": [
        "\n",
        "pi08-seapearl.txt"
       ]
      },
      {
       "output_type": "stream",
       "stream": "stdout",
       "text": [
        "\n",
        "pi12-seapearl.txt"
       ]
      },
      {
       "output_type": "stream",
       "stream": "stdout",
       "text": [
        "\n",
        "pi13-seapearl.txt"
       ]
      },
      {
       "output_type": "stream",
       "stream": "stdout",
       "text": [
        "\n",
        "pi14-seapearl.txt"
       ]
      },
      {
       "output_type": "stream",
       "stream": "stdout",
       "text": [
        "\n",
        "pi15-seapearl.txt"
       ]
      },
      {
       "output_type": "stream",
       "stream": "stdout",
       "text": [
        "\n",
        "pi16-seapearl.txt"
       ]
      },
      {
       "output_type": "stream",
       "stream": "stdout",
       "text": [
        "\n",
        "pi18-seapearl.txt"
       ]
      },
      {
       "output_type": "stream",
       "stream": "stdout",
       "text": [
        "\n",
        "pi19-seapearl.txt"
       ]
      },
      {
       "output_type": "stream",
       "stream": "stdout",
       "text": [
        "\n",
        "pi20-seapearl.txt"
       ]
      },
      {
       "output_type": "stream",
       "stream": "stdout",
       "text": [
        "\n",
        "pi21-seapearl.txt"
       ]
      },
      {
       "output_type": "stream",
       "stream": "stdout",
       "text": [
        "\n",
        "pi22-seapearl.txt"
       ]
      },
      {
       "output_type": "stream",
       "stream": "stdout",
       "text": [
        "\n",
        "pi24-seapearl.txt"
       ]
      },
      {
       "output_type": "stream",
       "stream": "stdout",
       "text": [
        "\n",
        "pi25-seapearl.txt"
       ]
      },
      {
       "output_type": "stream",
       "stream": "stdout",
       "text": [
        "\n",
        "pi26-seapearl.txt"
       ]
      },
      {
       "output_type": "stream",
       "stream": "stdout",
       "text": [
        "\n",
        "pi27-seapearl.txt"
       ]
      },
      {
       "output_type": "stream",
       "stream": "stdout",
       "text": [
        "\n",
        "pi28-seapearl.txt"
       ]
      },
      {
       "output_type": "stream",
       "stream": "stdout",
       "text": [
        "\n",
        "pi29-seapearl.txt"
       ]
      },
      {
       "output_type": "stream",
       "stream": "stdout",
       "text": [
        "\n",
        "pi30-seapearl.txt"
       ]
      },
      {
       "output_type": "stream",
       "stream": "stdout",
       "text": [
        "\n",
        "pi31-seapearl.txt"
       ]
      },
      {
       "output_type": "stream",
       "stream": "stdout",
       "text": [
        "\n",
        "pi32-seapearl.txt"
       ]
      },
      {
       "output_type": "stream",
       "stream": "stdout",
       "text": [
        "\n",
        "pi33-seapearl.txt"
       ]
      },
      {
       "output_type": "stream",
       "stream": "stdout",
       "text": [
        "\n",
        "pi35-seapearl.txt"
       ]
      },
      {
       "output_type": "stream",
       "stream": "stdout",
       "text": [
        "\n",
        "pi36-seapearl.txt"
       ]
      },
      {
       "output_type": "stream",
       "stream": "stdout",
       "text": [
        "\n",
        "pi37-seapearl.txt"
       ]
      },
      {
       "output_type": "stream",
       "stream": "stdout",
       "text": [
        "\n",
        "pi38-seapearl.txt"
       ]
      },
      {
       "output_type": "stream",
       "stream": "stdout",
       "text": [
        "\n",
        "pi39-seapearl.txt"
       ]
      },
      {
       "output_type": "stream",
       "stream": "stdout",
       "text": [
        "\n",
        "pi40-seapearl.txt"
       ]
      },
      {
       "output_type": "stream",
       "stream": "stdout",
       "text": [
        "\n",
        "pi41-seapearl.txt"
       ]
      },
      {
       "output_type": "stream",
       "stream": "stdout",
       "text": [
        "\n",
        "pi42-seapearl.txt"
       ]
      },
      {
       "output_type": "stream",
       "stream": "stdout",
       "text": [
        "\n",
        "pi43-seapearl.txt"
       ]
      },
      {
       "output_type": "stream",
       "stream": "stdout",
       "text": [
        "\n",
        "pi45-seapearl.txt"
       ]
      },
      {
       "output_type": "stream",
       "stream": "stdout",
       "text": [
        "\n",
        "pi47-seapearl.txt"
       ]
      },
      {
       "output_type": "stream",
       "stream": "stdout",
       "text": [
        "\n",
        "pi48-seapearl.txt"
       ]
      },
      {
       "output_type": "stream",
       "stream": "stdout",
       "text": [
        "\n"
       ]
      }
     ],
     "prompt_number": 5
    },
    {
     "cell_type": "code",
     "collapsed": false,
     "input": [
      "L = timeseriesdict[('pi29', 'Tina')] #KEY=(nodename, sensorname)"
     ],
     "language": "python",
     "metadata": {},
     "outputs": [],
     "prompt_number": 13
    },
    {
     "cell_type": "code",
     "collapsed": false,
     "input": [
      "L['value'].plot(figsize=(14,12))\n",
      "L.shape"
     ],
     "language": "python",
     "metadata": {},
     "outputs": [
      {
       "metadata": {},
       "output_type": "pyout",
       "prompt_number": 15,
       "text": [
        "(180000, 2)"
       ]
      },
      {
       "metadata": {},
       "output_type": "display_data",
       "png": "[encoded data removed]",
       "text": [
        "<matplotlib.figure.Figure at 0x7f6e77ff3f50>"
       ]
      }
     ],
     "prompt_number": 15
    },
    {
     "cell_type": "code",
     "collapsed": true,
     "input": [
      "#File: stdDeviations.txt \n",
      "#calc std dev of each time series and write to file\n",
      "otptfile = open('stdDeviations.txt','w')\n",
      "for key, tsK in timeseriesdict.iteritems():\n",
      "    deviation=np.std(tsK['value'].tolist())\n",
      "    print key[0] + ',' + key[1] + ',' + str(deviation)\n",
      "    otptfile.write(key[0] + ',' + key[1] + ',' + str(deviation)+'\\n')\n",
      "otptfile.close()"
     ],
     "language": "python",
     "metadata": {},
     "outputs": [
      {
       "output_type": "stream",
       "stream": "stdout",
       "text": [
        "pi30,ATX5sb,0.0514319649858\n",
        "pi03,ATX5,0.00706852832047\n",
        "pi21,HDD12,0.32821474815\n",
        "pi20,ATX5,1.70946782493\n",
        "pi27,CPU1,3.13769554348"
       ]
      },
      {
       "output_type": "stream",
       "stream": "stdout",
       "text": [
        "\n",
        "pi29,ATX3.3,0.120637019844\n",
        "pi03,ATX5sb,0.00145020122548\n",
        "pi30,Tcpu2,0.0452799943214\n",
        "pi20,MEM2,1.00508866188"
       ]
      },
      {
       "output_type": "stream",
       "stream": "stdout",
       "text": [
        "\n",
        "pi43,Tmem2,0.059711007766\n",
        "pi03,CPU2,0.010602135507\n",
        "pi28,Thca,0.0581546461342\n",
        "pi29,Tinb,5.28217469764e-11"
       ]
      },
      {
       "output_type": "stream",
       "stream": "stdout",
       "text": [
        "\n",
        "pi19,Tamb,0.260129468025\n",
        "pi39,Tmem1,0.0604378052086\n",
        "pi21,HDD5,0.101987125201\n",
        "pi39,CPU1,1.45750617982"
       ]
      },
      {
       "output_type": "stream",
       "stream": "stdout",
       "text": [
        "\n",
        "pi30,Tamb,0.201643392313\n",
        "pi35,ATX5sb,0.0352473741073\n",
        "pi27,MEM2,1.09656634361\n",
        "pi42,Tinb,3.02762259707e-11"
       ]
      },
      {
       "output_type": "stream",
       "stream": "stdout",
       "text": [
        "\n",
        "pi18,Tamb,0.249138725968\n",
        "pi02,Tina,4.92512697292e-11\n",
        "pi18,HDD12,0.362585389744\n",
        "pi42,ATX5,0.572619242036"
       ]
      },
      {
       "output_type": "stream",
       "stream": "stdout",
       "text": [
        "\n",
        "pi48,Tcpu1,0.0768833237077\n",
        "pi19,ATX5,1.66273707044\n",
        "pi36,Tmem2,0.0545456708135\n",
        "pi24,Thca,0.0639866114499"
       ]
      },
      {
       "output_type": "stream",
       "stream": "stdout",
       "text": [
        "\n",
        "pi06,MEM2,1.04484626914\n",
        "pi25,Tina,4.63273863716e-11\n",
        "pi45,Tmem1,0.0687668998228\n",
        "pi35,Tmem1,0.0636203633244"
       ]
      },
      {
       "output_type": "stream",
       "stream": "stdout",
       "text": [
        "\n",
        "pi08,ATX5sb,0.135507902699\n",
        "pi31,Tina,5.91775517478e-11\n",
        "pi03,MEM2,0.00347427510425\n",
        "pi20,Tcpu2,0.142980395011"
       ]
      },
      {
       "output_type": "stream",
       "stream": "stdout",
       "text": [
        "\n",
        "pi30,Tinb,6.53557208352e-11\n",
        "pi38,Thca,0.0505538695354\n",
        "pi06,HDD12,0.375213199248\n",
        "pi21,Tamb,0.151925888116"
       ]
      },
      {
       "output_type": "stream",
       "stream": "stdout",
       "text": [
        "\n",
        "pi18,ATX3.3,0.12802767909\n",
        "pi40,ATX3.3,0.274946348206\n",
        "pi30,Tmem1,0.296993569391\n",
        "pi37,Tmem2,0.0519635819589"
       ]
      },
      {
       "output_type": "stream",
       "stream": "stdout",
       "text": [
        "\n",
        "pi08,Thca,0.0534748860882\n",
        "pi36,Thca,0.0486247067954\n",
        "pi08,ATX12,2.43826213141\n",
        "pi24,ATX5,1.71988074983"
       ]
      },
      {
       "output_type": "stream",
       "stream": "stdout",
       "text": [
        "\n",
        "pi06,ATX3.3,0.118319490989\n",
        "pi40,ATX12,0.53967464076\n",
        "pi40,CPU1,1.49124902961\n",
        "pi45,Tinb,0.0"
       ]
      },
      {
       "output_type": "stream",
       "stream": "stdout",
       "text": [
        "\n",
        "pi18,Tina,4.72617500691e-11\n",
        "pi37,Tinb,5.45128386875e-11\n",
        "pi31,MEM1,0.274857416058\n",
        "pi35,ATX3.3,0.286631598478"
       ]
      },
      {
       "output_type": "stream",
       "stream": "stdout",
       "text": [
        "\n",
        "pi21,MEM2,1.06302127805\n",
        "pi42,ATX3.3,0.277908006303\n",
        "pi27,Tmem1,0.0442791234404\n",
        "pi13,HDD5,0.136942932641"
       ]
      },
      {
       "output_type": "stream",
       "stream": "stdout",
       "text": [
        "\n",
        "pi41,Tmem1,0.0597429763379\n",
        "pi41,ATX12,0.63318319475\n",
        "pi31,ATX5sb,0.0484542380378\n",
        "pi06,CPU1,3.03284712133"
       ]
      },
      {
       "output_type": "stream",
       "stream": "stdout",
       "text": [
        "\n",
        "pi06,Tmem1,0.0484601760927\n",
        "pi14,HDD12,0.359841726328\n",
        "pi12,CPU1,3.13301657807\n",
        "pi19,ATX12,2.32293085148"
       ]
      },
      {
       "output_type": "stream",
       "stream": "stdout",
       "text": [
        "\n",
        "pi28,HDD12,0.14182501372\n",
        "pi22,HDD5,0.11439004807\n",
        "pi26,Tcpu2,0.0509805530287\n",
        "pi29,ATX5,1.69145106776"
       ]
      },
      {
       "output_type": "stream",
       "stream": "stdout",
       "text": [
        "\n",
        "pi31,Tmem1,0.204437280039\n",
        "pi31,CPU1,0.263205241598\n",
        "pi42,Thca,0.0540892508137\n",
        "pi36,Tinb,8.35811420075e-11"
       ]
      },
      {
       "output_type": "stream",
       "stream": "stdout",
       "text": [
        "\n",
        "pi32,Thca,0.0626560473518\n",
        "pi02,ATX3.3,0.122830523773\n",
        "pi47,Tmem2,0.066221977528\n",
        "pi26,CPU1,3.33271166043"
       ]
      },
      {
       "output_type": "stream",
       "stream": "stdout",
       "text": [
        "\n",
        "pi08,MEM1,1.01371040286\n",
        "pi16,ATX5,1.70282477547\n",
        "pi27,Tout,0.0504970250311\n",
        "pi21,Tcpu2,0.130495157955"
       ]
      },
      {
       "output_type": "stream",
       "stream": "stdout",
       "text": [
        "\n",
        "pi29,Thca,0.0609308364174\n",
        "pi31,ATX3.3,0.116136752965\n",
        "pi33,Tmem2,0.0548824505004\n",
        "pi08,ATX5,1.65926947646"
       ]
      },
      {
       "output_type": "stream",
       "stream": "stdout",
       "text": [
        "\n",
        "pi28,CPU2,3.38387472911\n",
        "pi15,Tcpu2,0.0739675710223\n",
        "pi02,MEM1,0.754696105599\n",
        "pi08,CPU2,3.41188647476"
       ]
      },
      {
       "output_type": "stream",
       "stream": "stdout",
       "text": [
        "\n",
        "pi21,CPU1,3.07244470637\n",
        "pi03,Tcpu2,0.050961051576\n",
        "pi22,Tinb,8.6849638592e-11\n",
        "pi14,Tina,5.39053246484e-11"
       ]
      },
      {
       "output_type": "stream",
       "stream": "stdout",
       "text": [
        "\n",
        "pi16,Tcpu1,0.0594156575528\n",
        "pi16,Tout,0.0724720115242\n",
        "pi15,ATX3.3,0.111437014911\n",
        "pi32,Tcpu2,0.047467573886"
       ]
      },
      {
       "output_type": "stream",
       "stream": "stdout",
       "text": [
        "\n",
        "pi08,Tcpu1,0.0373468962783\n",
        "pi03,Tamb,0.132897123136\n",
        "pi19,Tmem2,0.0924386155965\n",
        "pi32,HDD5,0.0851927816384"
       ]
      },
      {
       "output_type": "stream",
       "stream": "stdout",
       "text": [
        "\n",
        "pi02,Tmem1,0.0689766256149\n",
        "pi38,ATX12,0.509135240454\n",
        "pi21,ATX12,2.46687033436\n",
        "pi15,Tout,0.0674342361316"
       ]
      },
      {
       "output_type": "stream",
       "stream": "stdout",
       "text": [
        "\n",
        "pi41,ATX5sb,0.037695094325\n",
        "pi13,Tina,4.5780268465e-11\n",
        "pi38,Tina,6.37143671156e-11\n",
        "pi29,CPU2,3.61678479742"
       ]
      },
      {
       "output_type": "stream",
       "stream": "stdout",
       "text": [
        "\n",
        "pi12,Tmem1,0.0437262635951\n",
        "pi43,Tinb,5.34043920197e-11\n",
        "pi27,Tcpu2,0.0482041887182\n",
        "pi35,Tinb,5.54116752483e-11"
       ]
      },
      {
       "output_type": "stream",
       "stream": "stdout",
       "text": [
        "\n",
        "pi28,ATX5,1.69725307967\n",
        "pi48,Tamb,0.145383508143\n",
        "pi28,Tina,4.69064787012e-11\n",
        "pi27,ATX3.3,0.119947983046"
       ]
      },
      {
       "output_type": "stream",
       "stream": "stdout",
       "text": [
        "\n",
        "pi38,ATX3.3,0.299583390925\n",
        "pi12,ATX5,0.2256341476\n",
        "pi15,ATX12,2.59695997811\n",
        "pi43,CPU1,1.44159389178"
       ]
      },
      {
       "output_type": "stream",
       "stream": "stdout",
       "text": [
        "\n",
        "pi48,ATX3.3,0.295584828553\n",
        "pi47,CPU1,1.34186599755\n",
        "pi13,Tcpu2,0.0659096728556\n",
        "pi12,MEM1,1.05433869984"
       ]
      },
      {
       "output_type": "stream",
       "stream": "stdout",
       "text": [
        "\n",
        "pi39,Tout,0.148387671525\n",
        "pi38,Tout,0.0554231075386\n",
        "pi24,MEM1,1.05490829729\n",
        "pi25,MEM1,1.01692538313"
       ]
      },
      {
       "output_type": "stream",
       "stream": "stdout",
       "text": [
        "\n",
        "pi02,ATX5,0.208939149328\n",
        "pi30,HDD5,0.0776233755967\n",
        "pi19,Tina,4.73576733384e-11\n",
        "pi13,CPU1,3.01237912036"
       ]
      },
      {
       "output_type": "stream",
       "stream": "stdout",
       "text": [
        "\n",
        "pi26,Tinb,1.68967062564e-11\n",
        "pi18,HDD5,0.0877949439203\n",
        "pi12,Tout,0.0473645679801\n",
        "pi14,Tcpu2,0.0655406911196"
       ]
      },
      {
       "output_type": "stream",
       "stream": "stdout",
       "text": [
        "\n",
        "pi29,MEM2,0.807815651854\n",
        "pi35,HDD12,0.195941355026\n",
        "pi39,Tcpu1,0.0744728121925\n",
        "pi45,HDD12,0.211285562553"
       ]
      },
      {
       "output_type": "stream",
       "stream": "stdout",
       "text": [
        "\n",
        "pi08,ATX3.3,0.127612414541\n",
        "pi33,Tout,0.125346394986\n",
        "pi39,ATX3.3,0.338774066924\n",
        "pi39,Tinb,4.71622740861e-11"
       ]
      },
      {
       "output_type": "stream",
       "stream": "stdout",
       "text": [
        "\n",
        "pi25,CPU1,3.11941580629\n",
        "pi14,CPU1,3.38448562932\n",
        "pi45,ATX5sb,0.034298315509\n",
        "pi13,ATX12,7.35840462877"
       ]
      },
      {
       "output_type": "stream",
       "stream": "stdout",
       "text": [
        "\n",
        "pi21,Tina,4.04583033742e-11\n",
        "pi16,Tmem1,0.0596937787414\n",
        "pi18,MEM1,0.997200003564\n",
        "pi20,HDD5,0.0834941708746"
       ]
      },
      {
       "output_type": "stream",
       "stream": "stdout",
       "text": [
        "\n",
        "pi32,CPU2,3.42669908092\n",
        "pi43,ATX12,0.487820197971\n",
        "pi24,Tcpu2,0.0585648611178\n",
        "pi29,ATX5sb,0.0520641136662"
       ]
      },
      {
       "output_type": "stream",
       "stream": "stdout",
       "text": [
        "\n",
        "pi30,ATX3.3,1.04848666544\n",
        "pi20,CPU1,3.08029472507\n",
        "pi29,ATX12,2.28387030961\n",
        "pi19,Tcpu1,0.0954864593123"
       ]
      },
      {
       "output_type": "stream",
       "stream": "stdout",
       "text": [
        "\n",
        "pi18,ATX5,1.67015127912\n",
        "pi14,ATX12,2.40505047627\n",
        "pi30,CPU2,0.210993470896\n",
        "pi19,HDD12,0.497460401283"
       ]
      },
      {
       "output_type": "stream",
       "stream": "stdout",
       "text": [
        "\n",
        "pi37,HDD12,0.2081668635\n",
        "pi18,CPU2,3.50585183428\n",
        "pi41,HDD12,0.151859960998\n",
        "pi45,ATX12,0.485562201594"
       ]
      },
      {
       "output_type": "stream",
       "stream": "stdout",
       "text": [
        "\n",
        "pi03,HDD12,0.363326796269\n",
        "pi27,CPU2,3.44300621897\n",
        "pi12,Tcpu2,0.0465063989867\n",
        "pi13,Tamb,0.200946299873"
       ]
      },
      {
       "output_type": "stream",
       "stream": "stdout",
       "text": [
        "\n",
        "pi25,ATX3.3,0.16441864526\n",
        "pi12,ATX3.3,0.114204902787\n",
        "pi36,Tina,6.37143671156e-11\n",
        "pi25,Tout,0.051649273681"
       ]
      },
      {
       "output_type": "stream",
       "stream": "stdout",
       "text": [
        "\n",
        "pi29,Tina,2.28261853863e-11\n",
        "pi27,ATX5,1.67129304381\n",
        "pi12,ATX5sb,0.14113435385\n",
        "pi37,ATX3.3,0.49307862634"
       ]
      },
      {
       "output_type": "stream",
       "stream": "stdout",
       "text": [
        "\n",
        "pi47,ATX5,0.64355521575\n",
        "pi33,Tina,0.0\n",
        "pi47,Tinb,4.71622740861e-11\n",
        "pi24,ATX12,2.31537090284"
       ]
      },
      {
       "output_type": "stream",
       "stream": "stdout",
       "text": [
        "\n",
        "pi08,Tout,0.0378185315667\n",
        "pi02,Tcpu1,0.0564701718054\n",
        "pi27,MEM1,1.03717726166\n",
        "pi22,ATX5,1.75708533328"
       ]
      },
      {
       "output_type": "stream",
       "stream": "stdout",
       "text": [
        "\n",
        "pi48,Tinb,8.35811420075e-11\n",
        "pi02,Tinb,3.09938741339e-11\n",
        "pi25,HDD12,0.386290228776\n",
        "pi03,Tout,0.0452649707581"
       ]
      },
      {
       "output_type": "stream",
       "stream": "stdout",
       "text": [
        "\n",
        "pi26,ATX3.3,0.329858300331\n",
        "pi40,Tina,8.0422779547e-11\n",
        "pi02,MEM2,0.755012255345\n",
        "pi22,CPU2,3.49178545303"
       ]
      },
      {
       "output_type": "stream",
       "stream": "stdout",
       "text": [
        "\n",
        "pi26,ATX5sb,0.146276565089\n",
        "pi42,CPU1,1.42473377859\n",
        "pi29,Tcpu2,0.0476861849989\n",
        "pi30,ATX5,0.114480295483"
       ]
      },
      {
       "output_type": "stream",
       "stream": "stdout",
       "text": [
        "\n",
        "pi32,Tinb,1.68398628375e-11\n",
        "pi32,MEM2,1.00311123967\n",
        "pi15,Tmem2,0.0794542359288\n",
        "pi20,Tina,9.81188463811e-11"
       ]
      },
      {
       "output_type": "stream",
       "stream": "stdout",
       "text": [
        "\n",
        "pi43,Tout,0.0864007276733\n",
        "pi48,Tina,3.50190987319e-11\n",
        "pi14,ATX5,1.64148661021\n",
        "pi42,Tout,0.140579290193"
       ]
      },
      {
       "output_type": "stream",
       "stream": "stdout",
       "text": [
        "\n",
        "pi36,HDD12,0.204285058653\n",
        "pi25,Tcpu2,0.0530899393952\n",
        "pi08,Tmem1,0.0378595149789\n",
        "pi37,Tmem1,0.0605825251847"
       ]
      },
      {
       "output_type": "stream",
       "stream": "stdout",
       "text": [
        "\n",
        "pi35,ATX5,0.637875391309\n",
        "pi40,Tmem1,0.0605313750249\n",
        "pi13,MEM1,0.817271426785\n",
        "pi41,Tina,5.94972959789e-11"
       ]
      },
      {
       "output_type": "stream",
       "stream": "stdout",
       "text": [
        "\n",
        "pi15,MEM1,1.02947111693\n",
        "pi24,Tina,0.0\n",
        "pi14,ATX5sb,0.14560720358\n",
        "pi40,HDD12,0.181734393142"
       ]
      },
      {
       "output_type": "stream",
       "stream": "stdout",
       "text": [
        "\n",
        "pi48,Tmem2,0.0612323111549\n",
        "pi24,CPU1,3.17988207136\n",
        "pi03,HDD5,0.116600514579\n",
        "pi15,CPU1,3.53469948784"
       ]
      },
      {
       "output_type": "stream",
       "stream": "stdout",
       "text": [
        "\n",
        "pi19,Thca,0.117460800249\n",
        "pi19,CPU1,3.38788884102\n",
        "pi31,MEM2,0.275756549189\n",
        "pi31,Tcpu1,0.112131438441"
       ]
      },
      {
       "output_type": "stream",
       "stream": "stdout",
       "text": [
        "\n",
        "pi16,ATX5sb,0.138062971788\n",
        "pi29,Tmem1,0.0421094723689\n",
        "pi22,MEM1,1.03982337945\n",
        "pi26,ATX5,0.212992518121"
       ]
      },
      {
       "output_type": "stream",
       "stream": "stdout",
       "text": [
        "\n",
        "pi03,Tmem1,0.0527212952652\n",
        "pi30,HDD12,0.169616417604\n",
        "pi12,CPU2,3.92251793975\n",
        "pi19,MEM2,0.828473031694"
       ]
      },
      {
       "output_type": "stream",
       "stream": "stdout",
       "text": [
        "\n",
        "pi47,Tina,7.57616192004e-11\n",
        "pi22,ATX5sb,0.139227249794\n",
        "pi25,Thca,0.0604394243139\n",
        "pi47,ATX3.3,0.557211993123"
       ]
      },
      {
       "output_type": "stream",
       "stream": "stdout",
       "text": [
        "\n",
        "pi33,ATX3.3,0.395321975145\n",
        "pi27,ATX5sb,0.142276397581\n",
        "pi28,Tcpu2,0.0470289032803\n",
        "pi32,Tamb,0.193032556987"
       ]
      },
      {
       "output_type": "stream",
       "stream": "stdout",
       "text": [
        "\n",
        "pi47,ATX5sb,0.0306358934079\n",
        "pi06,ATX5sb,0.141503979963\n",
        "pi08,MEM2,1.0099222851\n",
        "pi22,Tamb,0.159227162584"
       ]
      },
      {
       "output_type": "stream",
       "stream": "stdout",
       "text": [
        "\n",
        "pi13,Thca,0.0749552096107\n",
        "pi21,Tcpu1,0.135354736366\n",
        "pi16,Tina,1.6878942688e-11\n",
        "pi13,Tmem2,0.0778481355264"
       ]
      },
      {
       "output_type": "stream",
       "stream": "stdout",
       "text": [
        "\n",
        "pi22,Tcpu2,0.0757626176318\n",
        "pi33,Tmem1,0.0765428120527\n",
        "pi32,ATX3.3,0.118961710105\n",
        "pi08,HDD12,0.433363809464"
       ]
      },
      {
       "output_type": "stream",
       "stream": "stdout",
       "text": [
        "\n",
        "pi32,ATX5sb,0.146019400895\n",
        "pi28,ATX3.3,0.121538940442\n",
        "pi39,HDD5,0.125541823788\n",
        "pi08,CPU1,2.97561955736"
       ]
      },
      {
       "output_type": "stream",
       "stream": "stdout",
       "text": [
        "\n",
        "pi18,ATX5sb,0.133119025006\n",
        "pi36,ATX12,0.539322826984\n",
        "pi03,Tcpu1,0.0409496306264\n",
        "pi29,Tamb,0.200501478893"
       ]
      },
      {
       "output_type": "stream",
       "stream": "stdout",
       "text": [
        "\n",
        "pi13,Tout,0.0617501960275\n",
        "pi21,ATX5,1.68052103141\n",
        "pi28,MEM1,1.00416122016\n",
        "pi45,CPU1,1.28554539372"
       ]
      },
      {
       "output_type": "stream",
       "stream": "stdout",
       "text": [
        "\n",
        "pi30,MEM2,0.286455728481\n",
        "pi32,Tcpu1,0.0404402970246\n",
        "pi19,Tmem1,0.066638322366\n",
        "pi20,MEM1,1.01295755277"
       ]
      },
      {
       "output_type": "stream",
       "stream": "stdout",
       "text": [
        "\n",
        "pi03,CPU1,0.00916858056973\n",
        "pi08,Tinb,4.70130601116e-11\n",
        "pi39,ATX12,0.528256050386\n",
        "pi21,ATX5sb,0.141998420237"
       ]
      },
      {
       "output_type": "stream",
       "stream": "stdout",
       "text": [
        "\n",
        "pi20,Tamb,0.152246791686\n",
        "pi36,Tout,0.119045538773\n",
        "pi41,HDD5,0.10029257778\n",
        "pi48,ATX5,0.622980363618"
       ]
      },
      {
       "output_type": "stream",
       "stream": "stdout",
       "text": [
        "\n",
        "pi20,Tout,0.0846512679061\n",
        "pi21,Tmem1,0.065169719689\n",
        "pi43,Tina,0.0\n",
        "pi22,ATX12,2.42127663481"
       ]
      },
      {
       "output_type": "stream",
       "stream": "stdout",
       "text": [
        "\n",
        "pi02,ATX5sb,0.0468051523309\n",
        "pi06,MEM1,0.983927783965\n",
        "pi35,Tmem2,0.0496370264517\n",
        "pi20,HDD12,0.363253089098"
       ]
      },
      {
       "output_type": "stream",
       "stream": "stdout",
       "text": [
        "\n",
        "pi12,Tina,0.0\n",
        "pi33,ATX5,0.604433641792\n",
        "pi48,ATX5sb,0.0381067551623\n",
        "pi24,Tout,0.0543908488936"
       ]
      },
      {
       "output_type": "stream",
       "stream": "stdout",
       "text": [
        "\n",
        "pi20,ATX12,2.37097600049\n",
        "pi41,Tamb,0.117054005297\n",
        "pi35,Tout,0.0973954487835\n",
        "pi12,HDD5,0.0943337242067"
       ]
      },
      {
       "output_type": "stream",
       "stream": "stdout",
       "text": [
        "\n",
        "pi19,Tinb,1.69926295257e-11\n",
        "pi40,Tcpu1,0.0705909342221\n",
        "pi21,Tout,0.0692732080526\n",
        "pi14,Tcpu1,0.0516277050017"
       ]
      },
      {
       "output_type": "stream",
       "stream": "stdout",
       "text": [
        "\n",
        "pi28,Tout,0.0475491850244\n",
        "pi42,HDD12,0.231166231718\n",
        "pi41,ATX5,0.582580186691\n",
        "pi06,Tcpu1,0.038461021793"
       ]
      },
      {
       "output_type": "stream",
       "stream": "stdout",
       "text": [
        "\n",
        "pi02,Thca,0.0703171935961\n",
        "pi33,ATX12,0.571943405396\n",
        "pi26,Tmem1,0.0466734381735\n",
        "pi43,Thca,0.0571565746677"
       ]
      },
      {
       "output_type": "stream",
       "stream": "stdout",
       "text": [
        "\n",
        "pi15,Thca,0.0839177694429\n",
        "pi28,Tmem2,0.0531597097786\n",
        "pi47,HDD12,0.166926502241\n",
        "pi37,Tcpu1,0.0673766317281"
       ]
      },
      {
       "output_type": "stream",
       "stream": "stdout",
       "text": [
        "\n",
        "pi32,Tina,4.5780268465e-11\n",
        "pi18,Tout,0.0869988343429\n",
        "pi18,Tcpu2,0.103241090048\n",
        "pi27,HDD12,0.444987202648"
       ]
      },
      {
       "output_type": "stream",
       "stream": "stdout",
       "text": [
        "\n",
        "pi06,Thca,0.0553839267717\n",
        "pi45,Tcpu1,0.0712813446196\n",
        "pi12,Tamb,0.193068463016\n",
        "pi06,CPU2,3.42336445035"
       ]
      },
      {
       "output_type": "stream",
       "stream": "stdout",
       "text": [
        "\n",
        "pi22,HDD12,0.358831159666\n",
        "pi35,HDD5,0.1041516069\n",
        "pi31,Thca,0.0595633538867\n",
        "pi26,Tcpu1,0.0494706127255"
       ]
      },
      {
       "output_type": "stream",
       "stream": "stdout",
       "text": [
        "\n",
        "pi19,Tcpu2,0.113040960499\n",
        "pi31,Tmem2,0.395477079285\n",
        "pi15,HDD5,0.0960815842338\n",
        "pi29,Tout,0.0481574570248"
       ]
      },
      {
       "output_type": "stream",
       "stream": "stdout",
       "text": [
        "\n",
        "pi24,Tmem2,0.0622388297433\n",
        "pi43,HDD5,0.140524559432\n",
        "pi06,Tout,0.0439768449087\n",
        "pi37,ATX5,0.799239100412"
       ]
      },
      {
       "output_type": "stream",
       "stream": "stdout",
       "text": [
        "\n",
        "pi48,CPU1,1.4978528557\n",
        "pi16,HDD12,0.371223251048\n",
        "pi14,Tmem1,0.0571331355498\n",
        "pi41,Tmem2,0.0514783508189"
       ]
      },
      {
       "output_type": "stream",
       "stream": "stdout",
       "text": [
        "\n",
        "pi45,Tamb,0.133394777398\n",
        "pi38,Tmem2,0.046202290903\n",
        "pi02,CPU1,3.16614980299\n",
        "pi03,Tinb,6.27657925634e-11"
       ]
      },
      {
       "output_type": "stream",
       "stream": "stdout",
       "text": [
        "\n",
        "pi16,CPU1,3.09420754113\n",
        "pi15,HDD12,0.395337287759\n",
        "pi27,Tina,2.28261853863e-11\n",
        "pi33,Tinb,3.06314973386e-11"
       ]
      },
      {
       "output_type": "stream",
       "stream": "stdout",
       "text": [
        "\n",
        "pi43,Tcpu1,0.122617961107\n",
        "pi28,ATX12,2.55624905424\n",
        "pi36,ATX5sb,0.0364382721952\n",
        "pi02,Tcpu2,0.0721220212746"
       ]
      },
      {
       "output_type": "stream",
       "stream": "stdout",
       "text": [
        "\n",
        "pi14,MEM1,1.03575057908\n",
        "pi22,Tina,7.65787433465e-11\n",
        "pi40,ATX5sb,0.0363377920222\n",
        "pi16,Tcpu2,0.077441089711"
       ]
      },
      {
       "output_type": "stream",
       "stream": "stdout",
       "text": [
        "\n",
        "pi27,HDD5,0.0785536732598\n",
        "pi22,Tmem1,0.0610473747769\n",
        "pi39,Tmem2,0.0515125636943\n",
        "pi22,CPU1,3.14997800942"
       ]
      },
      {
       "output_type": "stream",
       "stream": "stdout",
       "text": [
        "\n",
        "pi40,ATX5,0.578589029198\n",
        "pi29,Tcpu1,0.0418292111971\n",
        "pi14,Tout,0.0662795435004\n",
        "pi47,Tmem1,0.0723460917565"
       ]
      },
      {
       "output_type": "stream",
       "stream": "stdout",
       "text": [
        "\n",
        "pi30,Tina,6.33164631836e-11\n",
        "pi16,Tamb,0.211986790584\n",
        "pi30,Tcpu1,0.0365154587949\n",
        "pi26,HDD12,0.384874562847"
       ]
      },
      {
       "output_type": "stream",
       "stream": "stdout",
       "text": [
        "\n",
        "pi15,Tmem1,0.0643998380567\n",
        "pi20,Tinb,0.0\n",
        "pi48,Tout,0.0579473435953\n",
        "pi36,CPU1,1.44471132035"
       ]
      },
      {
       "output_type": "stream",
       "stream": "stdout",
       "text": [
        "\n",
        "pi45,Tout,0.18350420114\n",
        "pi25,ATX5sb,0.140385624376\n",
        "pi12,MEM2,1.04517735996\n",
        "pi06,Tina,6.69579947044e-11"
       ]
      },
      {
       "output_type": "stream",
       "stream": "stdout",
       "text": [
        "\n",
        "pi38,Tinb,6.65778543407e-11\n",
        "pi20,ATX3.3,0.16223989382\n",
        "pi29,CPU1,3.12791714814\n",
        "pi20,Tmem2,0.124292909248"
       ]
      },
      {
       "output_type": "stream",
       "stream": "stdout",
       "text": [
        "\n",
        "pi25,Tcpu1,0.0417956074224\n",
        "pi15,Tina,6.69579947044e-11\n",
        "pi20,Thca,0.143320272911\n",
        "pi39,Tamb,0.112359674551"
       ]
      },
      {
       "output_type": "stream",
       "stream": "stdout",
       "text": [
        "\n",
        "pi29,HDD5,0.127685472029\n",
        "pi45,Thca,0.0567618014596\n",
        "pi35,Tina,6.53557208352e-11\n",
        "pi25,Tmem1,0.0457915478493"
       ]
      },
      {
       "output_type": "stream",
       "stream": "stdout",
       "text": [
        "\n",
        "pi12,HDD12,0.383978205238\n",
        "pi27,Tamb,0.170115076924\n",
        "pi18,Tmem1,0.0806912169163\n",
        "pi24,Tinb,3.03295166759e-11"
       ]
      },
      {
       "output_type": "stream",
       "stream": "stdout",
       "text": [
        "\n",
        "pi45,Tmem2,0.428293505376\n",
        "pi16,MEM2,1.02271850565\n",
        "pi31,Tinb,6.69579947044e-11\n",
        "pi03,MEM1,0.00372466544116"
       ]
      },
      {
       "output_type": "stream",
       "stream": "stdout",
       "text": [
        "\n",
        "pi38,Tcpu1,0.0636277457902\n",
        "pi13,Tcpu1,0.0524973422541\n",
        "pi47,Tout,0.0843041543237\n",
        "pi40,Thca,0.0566663634658"
       ]
      },
      {
       "output_type": "stream",
       "stream": "stdout",
       "text": [
        "\n",
        "pi14,Thca,0.0738679790612\n",
        "pi16,ATX12,2.39665272796\n",
        "pi30,ATX12,2.29847807649\n",
        "pi33,Tcpu1,0.0767894747199"
       ]
      },
      {
       "output_type": "stream",
       "stream": "stdout",
       "text": [
        "\n",
        "pi37,ATX5sb,0.0320488892075\n",
        "pi25,MEM2,1.0323238646\n",
        "pi32,MEM1,0.971263812439\n",
        "pi22,Tout,0.0826469880765"
       ]
      },
      {
       "output_type": "stream",
       "stream": "stdout",
       "text": [
        "\n",
        "pi29,Tmem2,0.0508884335517\n",
        "pi19,ATX5sb,0.0544644327678\n",
        "pi36,Tcpu1,0.0610316253029\n",
        "pi22,MEM2,1.05722774638"
       ]
      },
      {
       "output_type": "stream",
       "stream": "stdout",
       "text": [
        "\n",
        "pi43,ATX5sb,0.0368729191634\n",
        "pi28,MEM2,0.985276861756\n",
        "pi37,Tamb,0.112421843499\n",
        "pi30,Tmem2,0.424847705015"
       ]
      },
      {
       "output_type": "stream",
       "stream": "stdout",
       "text": [
        "\n",
        "pi03,Tmem2,0.0541715844701\n",
        "pi26,Tina,7.65787433465e-11\n",
        "pi32,Tmem1,0.0395364092696\n",
        "pi30,Thca,0.0631868624186"
       ]
      },
      {
       "output_type": "stream",
       "stream": "stdout",
       "text": [
        "\n",
        "pi03,ATX3.3,0.00172546034563\n",
        "pi29,HDD12,0.359349746018\n",
        "pi36,ATX5,0.619612477688\n",
        "pi32,Tout,0.0426192540928"
       ]
      },
      {
       "output_type": "stream",
       "stream": "stdout",
       "text": [
        "\n",
        "pi13,ATX3.3,0.120843405943\n",
        "pi41,Tinb,0.0\n",
        "pi35,CPU1,1.53522571591\n",
        "pi19,CPU2,3.71957302298"
       ]
      },
      {
       "output_type": "stream",
       "stream": "stdout",
       "text": [
        "\n",
        "pi13,MEM2,0.784527776936\n",
        "pi42,Tcpu1,0.0763750183044\n",
        "pi06,ATX5,1.66340661458\n",
        "pi21,MEM1,1.06500013129"
       ]
      },
      {
       "output_type": "stream",
       "stream": "stdout",
       "text": [
        "\n",
        "pi06,HDD5,0.0912156017281\n",
        "pi27,Tmem2,0.0557144042534\n",
        "pi42,Tmem2,0.0521799650757\n",
        "pi18,MEM2,1.01033900818"
       ]
      },
      {
       "output_type": "stream",
       "stream": "stdout",
       "text": [
        "\n",
        "pi37,HDD5,0.157324700844\n",
        "pi32,CPU1,2.98211312952\n",
        "pi40,HDD5,0.111331845604\n",
        "pi36,Tamb,0.118354808461"
       ]
      },
      {
       "output_type": "stream",
       "stream": "stdout",
       "text": [
        "\n",
        "pi20,CPU2,3.29255514391\n",
        "pi26,MEM1,1.08075998669\n",
        "pi42,ATX5sb,0.0374132435673\n",
        "pi18,CPU1,2.93875217165"
       ]
      },
      {
       "output_type": "stream",
       "stream": "stdout",
       "text": [
        "\n",
        "pi18,Thca,0.10996862739\n",
        "pi33,ATX5sb,0.0369650447107\n",
        "pi30,MEM1,0.263084926339\n",
        "pi26,Tout,0.0513813242752"
       ]
      },
      {
       "output_type": "stream",
       "stream": "stdout",
       "text": [
        "\n",
        "pi47,Tcpu1,0.074050139696\n",
        "pi42,ATX12,0.543940180921\n",
        "pi30,Tout,0.0709979901669\n",
        "pi28,CPU1,2.9884163467"
       ]
      },
      {
       "output_type": "stream",
       "stream": "stdout",
       "text": [
        "\n",
        "pi35,Tcpu1,0.0697568257406\n",
        "pi35,Tamb,0.134602100624\n",
        "pi21,Thca,0.0959102627007\n",
        "pi21,CPU2,3.37055474801"
       ]
      },
      {
       "output_type": "stream",
       "stream": "stdout",
       "text": [
        "\n",
        "pi21,Tmem2,0.0679108086017\n",
        "pi15,Tamb,0.206980023496\n",
        "pi41,Tcpu1,0.0682795745332\n",
        "pi25,HDD5,0.0982098405559"
       ]
      },
      {
       "output_type": "stream",
       "stream": "stdout",
       "text": [
        "\n",
        "pi43,ATX3.3,0.284700787051\n",
        "pi43,ATX5,0.790747416352\n",
        "pi24,HDD5,0.10037460436\n",
        "pi32,HDD12,0.34930112559"
       ]
      },
      {
       "output_type": "stream",
       "stream": "stdout",
       "text": [
        "\n",
        "pi08,Tcpu2,0.0401814179919\n",
        "pi41,Thca,0.0489846598869\n",
        "pi45,HDD5,0.148842712571\n",
        "pi40,Tout,0.182146830195"
       ]
      },
      {
       "output_type": "stream",
       "stream": "stdout",
       "text": [
        "\n",
        "pi26,Thca,0.057767438129\n",
        "pi43,Tmem1,0.0665054479641\n",
        "pi33,HDD12,0.160039241894\n",
        "pi13,Tinb,3.03295166759e-11"
       ]
      },
      {
       "output_type": "stream",
       "stream": "stdout",
       "text": [
        "\n",
        "pi36,HDD5,0.114858014285\n",
        "pi37,Tout,0.0806488772971\n",
        "pi43,Tamb,0.136931942705\n",
        "pi37,Thca,0.0485090998582"
       ]
      },
      {
       "output_type": "stream",
       "stream": "stdout",
       "text": [
        "\n",
        "pi08,Tmem2,0.0412699865395\n",
        "pi12,Tmem2,0.0575799077611\n",
        "pi42,Tina,6.33164631836e-11\n",
        "pi25,Tamb,0.156222829585"
       ]
      },
      {
       "output_type": "stream",
       "stream": "stdout",
       "text": [
        "\n",
        "pi25,ATX12,2.53460133338\n",
        "pi12,Thca,0.057411187276\n",
        "pi27,Tcpu1,0.0402318647052\n",
        "pi25,ATX5,1.67133910336"
       ]
      },
      {
       "output_type": "stream",
       "stream": "stdout",
       "text": [
        "\n",
        "pi36,Tmem1,0.0606177185028\n",
        "pi32,ATX5,0.21639205696\n",
        "pi31,ATX5,1.65988993\n",
        "pi25,Tinb,6.03428418344e-11"
       ]
      },
      {
       "output_type": "stream",
       "stream": "stdout",
       "text": [
        "\n",
        "pi26,ATX12,2.38879577241\n",
        "pi06,Tcpu2,0.0457407850062\n",
        "pi24,CPU2,3.62678340382\n",
        "pi38,Tamb,0.114520979147"
       ]
      },
      {
       "output_type": "stream",
       "stream": "stdout",
       "text": [
        "\n",
        "pi15,CPU2,3.38308941663\n",
        "pi39,Tina,3.01128011415e-11\n",
        "pi16,HDD5,0.120128464383\n",
        "pi20,Tcpu1,0.107117758142"
       ]
      },
      {
       "output_type": "stream",
       "stream": "stdout",
       "text": [
        "\n",
        "pi19,Tout,0.0692947817739\n",
        "pi28,Tmem1,0.0408106162994\n",
        "pi24,MEM2,1.03233845546\n",
        "pi15,ATX5,1.65571310076"
       ]
      },
      {
       "output_type": "stream",
       "stream": "stdout",
       "text": [
        "\n",
        "pi19,ATX3.3,0.129074774661\n",
        "pi31,Tamb,0.201096421107\n",
        "pi18,Tcpu1,0.0787618771674\n",
        "pi42,Tamb,0.131154629792"
       ]
      },
      {
       "output_type": "stream",
       "stream": "stdout",
       "text": [
        "\n",
        "pi40,Tinb,6.69579947044e-11\n",
        "pi33,CPU1,1.44536830662\n",
        "pi28,ATX5sb,0.144113674776\n",
        "pi19,MEM1,0.844128342339"
       ]
      },
      {
       "output_type": "stream",
       "stream": "stdout",
       "text": [
        "\n",
        "pi29,MEM1,0.795381816001\n",
        "pi35,ATX12,0.500539048332\n",
        "pi31,HDD12,0.16185768617\n",
        "pi24,Tmem1,0.0492878458623"
       ]
      },
      {
       "output_type": "stream",
       "stream": "stdout",
       "text": [
        "\n",
        "pi28,Tamb,0.197656222816\n",
        "pi28,Tinb,4.72120120776e-11\n",
        "pi26,HDD5,0.0953971214332\n",
        "pi22,Thca,0.0693779197165"
       ]
      },
      {
       "output_type": "stream",
       "stream": "stdout",
       "text": [
        "\n",
        "pi18,Tinb,2.86277668238e-11\n",
        "pi36,ATX3.3,0.296408255369\n",
        "pi25,CPU2,3.71890610917\n",
        "pi03,ATX12,0.0072194649028"
       ]
      },
      {
       "output_type": "stream",
       "stream": "stdout",
       "text": [
        "\n",
        "pi06,ATX12,2.2830248623\n",
        "pi40,Tmem2,0.0541010126086\n",
        "pi14,CPU2,3.31557469206\n",
        "pi14,Tmem2,0.0757147152531"
       ]
      },
      {
       "output_type": "stream",
       "stream": "stdout",
       "text": [
        "\n",
        "pi38,HDD5,0.10587769586\n",
        "pi16,Tinb,3.04325453726e-11\n",
        "pi31,HDD5,0.094869428884\n",
        "pi42,HDD5,0.106259550109"
       ]
      },
      {
       "output_type": "stream",
       "stream": "stdout",
       "text": [
        "\n",
        "pi22,Tcpu1,0.362364927402\n",
        "pi32,ATX12,2.24593550334\n",
        "pi03,Tina,6.21120932465e-11\n",
        "pi16,Tmem2,0.0936789008812"
       ]
      },
      {
       "output_type": "stream",
       "stream": "stdout",
       "text": [
        "\n",
        "pi06,Tmem2,0.0519252448188\n",
        "pi16,CPU2,3.46744175234\n",
        "pi16,ATX3.3,0.117811681902\n",
        "pi16,Thca,0.087791008344"
       ]
      },
      {
       "output_type": "stream",
       "stream": "stdout",
       "text": [
        "\n",
        "pi48,HDD5,0.166292294946\n",
        "pi31,CPU2,0.211040558945\n",
        "pi28,HDD5,0.130490337625\n",
        "pi43,HDD12,0.22013697374"
       ]
      },
      {
       "output_type": "stream",
       "stream": "stdout",
       "text": [
        "\n",
        "pi08,HDD5,0.0852757489782\n",
        "pi48,Thca,0.0693385411347\n",
        "pi08,Tamb,0.164948883724\n",
        "pi47,ATX12,0.75713717693"
       ]
      },
      {
       "output_type": "stream",
       "stream": "stdout",
       "text": [
        "\n",
        "pi22,ATX3.3,0.118561337722\n",
        "pi27,ATX12,2.51376761134\n",
        "pi26,CPU2,3.52859722329\n",
        "pi06,Tamb,0.140736434867"
       ]
      },
      {
       "output_type": "stream",
       "stream": "stdout",
       "text": [
        "\n",
        "pi27,Thca,0.058561682609\n",
        "pi12,Tcpu1,0.0393498767271\n",
        "pi08,Tina,3.01128011415e-11\n",
        "pi40,Tamb,0.113563085174"
       ]
      },
      {
       "output_type": "stream",
       "stream": "stdout",
       "text": [
        "\n",
        "pi06,Tinb,7.77582442879e-11\n",
        "pi37,Tina,1.68576264059e-11\n",
        "pi15,Tcpu1,0.057735673788\n",
        "pi20,Tmem1,0.101580588587"
       ]
      },
      {
       "output_type": "stream",
       "stream": "stdout",
       "text": [
        "\n",
        "pi21,ATX3.3,0.1302089266\n",
        "pi15,Tinb,3.04076763769e-11\n",
        "pi32,Tmem2,0.0470575764315\n",
        "pi14,Tinb,1.69180225384e-11"
       ]
      },
      {
       "output_type": "stream",
       "stream": "stdout",
       "text": [
        "\n",
        "pi25,Tmem2,0.0582532579549\n",
        "pi37,CPU1,1.55732002299\n",
        "pi18,Tmem2,0.10827815994\n",
        "pi15,ATX5sb,0.138953400195"
       ]
      },
      {
       "output_type": "stream",
       "stream": "stdout",
       "text": [
        "\n",
        "pi47,HDD5,0.106451181952\n",
        "pi16,MEM1,1.01512488141\n",
        "pi12,Tinb,1.68967062564e-11\n",
        "pi02,Tmem2,0.088496645372"
       ]
      },
      {
       "output_type": "stream",
       "stream": "stdout",
       "text": [
        "\n",
        "pi13,ATX5,1.67354437991\n",
        "pi48,HDD12,0.175830602616\n",
        "pi38,CPU1,1.6244673379\n",
        "pi24,ATX5sb,0.142535802741"
       ]
      },
      {
       "output_type": "stream",
       "stream": "stdout",
       "text": [
        "\n",
        "pi39,ATX5sb,0.036340179956\n",
        "pi31,Tout,0.0476156230466\n",
        "pi38,HDD12,0.179807104929\n",
        "pi48,ATX12,0.752705981706"
       ]
      },
      {
       "output_type": "stream",
       "stream": "stdout",
       "text": [
        "\n",
        "pi15,MEM2,1.00786466879\n",
        "pi24,Tamb,0.165601500492\n",
        "pi39,ATX5,0.794610812917\n",
        "pi02,Tamb,0.16307444105"
       ]
      },
      {
       "output_type": "stream",
       "stream": "stdout",
       "text": [
        "\n",
        "pi47,Tamb,0.133685791673\n",
        "pi14,HDD5,0.130735072874\n",
        "pi48,Tmem1,0.0685068605574\n",
        "pi45,ATX5,0.641751308611"
       ]
      },
      {
       "output_type": "stream",
       "stream": "stdout",
       "text": [
        "\n",
        "pi45,Tina,4.93116658618e-11\n",
        "pi26,Tmem2,0.0563235252817\n",
        "pi31,Tcpu2,0.0488489096353\n",
        "pi13,HDD12,0.337670031087"
       ]
      },
      {
       "output_type": "stream",
       "stream": "stdout",
       "text": [
        "\n",
        "pi33,Thca,0.0819363940501\n",
        "pi42,Tmem1,0.0633085405622\n",
        "pi39,Thca,0.0524917382428\n",
        "pi18,ATX12,2.36463017069"
       ]
      },
      {
       "output_type": "stream",
       "stream": "stdout",
       "text": [
        "\n",
        "pi37,ATX12,0.581293359118\n",
        "pi12,ATX12,2.30694080429\n",
        "pi13,CPU2,3.42595560265\n",
        "pi41,ATX3.3,0.314336643414"
       ]
      },
      {
       "output_type": "stream",
       "stream": "stdout",
       "text": [
        "\n",
        "pi03,Thca,0.0607430255256\n",
        "pi33,Tamb,0.14305099338\n",
        "pi26,MEM2,1.10308272484\n",
        "pi19,HDD5,0.0829254532055"
       ]
      },
      {
       "output_type": "stream",
       "stream": "stdout",
       "text": [
        "\n",
        "pi02,HDD5,0.0868437969827\n",
        "pi35,Thca,0.0526930810179\n",
        "pi14,Tamb,0.208486361892\n",
        "pi28,Tcpu1,0.0395968415913"
       ]
      },
      {
       "output_type": "stream",
       "stream": "stdout",
       "text": [
        "\n",
        "pi13,ATX5sb,0.0606132923374\n",
        "pi14,ATX3.3,0.114916936022\n",
        "pi41,CPU1,1.44714314507\n",
        "pi33,HDD5,0.0909143303841"
       ]
      },
      {
       "output_type": "stream",
       "stream": "stdout",
       "text": [
        "\n",
        "pi02,Tout,0.0843031432862\n",
        "pi38,Tmem1,0.0595009500507\n",
        "pi21,Tinb,6.10747008523e-11\n",
        "pi02,CPU2,3.36214147844"
       ]
      },
      {
       "output_type": "stream",
       "stream": "stdout",
       "text": [
        "\n",
        "pi24,ATX3.3,0.122808501653\n",
        "pi13,Tmem1,0.0626213206504\n",
        "pi47,Thca,0.0584865415041\n",
        "pi20,ATX5sb,0.142965133118"
       ]
      },
      {
       "output_type": "stream",
       "stream": "stdout",
       "text": [
        "\n",
        "pi24,Tcpu1,0.0450959849758\n",
        "pi41,Tout,0.128828319565\n",
        "pi27,Tinb,1.68967062564e-11\n",
        "pi31,ATX12,2.2989888223"
       ]
      },
      {
       "output_type": "stream",
       "stream": "stdout",
       "text": [
        "\n",
        "pi38,ATX5sb,0.0365131347956\n",
        "pi02,HDD12,0.36426876146\n",
        "pi39,HDD12,0.200671115402\n",
        "pi24,HDD12,0.340036001623"
       ]
      },
      {
       "output_type": "stream",
       "stream": "stdout",
       "text": [
        "\n",
        "pi14,MEM2,1.04661881238\n",
        "pi45,ATX3.3,0.262362541201\n",
        "pi30,CPU1,0.257566329098\n",
        "pi02,ATX12,2.31136690164"
       ]
      },
      {
       "output_type": "stream",
       "stream": "stdout",
       "text": [
        "\n",
        "pi38,ATX5,0.398467171692\n",
        "pi26,Tamb,0.159513547822\n",
        "pi22,Tmem2,0.080054110199\n"
       ]
      }
     ],
     "prompt_number": 56
    },
    {
     "cell_type": "code",
     "collapsed": false,
     "input": [
      "df=pd.read_csv('stdDeviations.txt', names=['node','sensor','stdDev'])"
     ],
     "language": "python",
     "metadata": {},
     "outputs": [],
     "prompt_number": 32
    },
    {
     "cell_type": "code",
     "collapsed": false,
     "input": [
      "pd.DataFrame.hist(df, column=['stdDev'], bins=100, figsize=(20,6))"
     ],
     "language": "python",
     "metadata": {},
     "outputs": [
      {
       "metadata": {},
       "output_type": "pyout",
       "prompt_number": 105,
       "text": [
        "array([[<matplotlib.axes.AxesSubplot object at 0x7fdf52cbf4d0>]], dtype=object)"
       ]
      },
      {
       "metadata": {},
       "output_type": "display_data",
       "png": "[encoded data removed]",
       "text": [
        "<matplotlib.figure.Figure at 0x7fdf529fb910>"
       ]
      }
     ],
     "prompt_number": 105
    },
    {
     "cell_type": "code",
     "collapsed": false,
     "input": [
      "#anomaly with VERY HIGH std deviation\n",
      "df[(df.stdDev >6) & (df.stdDev < 10)]"
     ],
     "language": "python",
     "metadata": {},
     "outputs": [
      {
       "html": [
        "<div style=\"max-height:1000px;max-width:1500px;overflow:auto;\">\n",
        "<table border=\"1\" class=\"dataframe\">\n",
        "  <thead>\n",
        "    <tr style=\"text-align: right;\">\n",
        "      <th></th>\n",
        "      <th>node</th>\n",
        "      <th>sensor</th>\n",
        "      <th>stdDev</th>\n",
        "    </tr>\n",
        "  </thead>\n",
        "  <tbody>\n",
        "    <tr>\n",
        "      <th>152</th>\n",
        "      <td> pi13</td>\n",
        "      <td> ATX12</td>\n",
        "      <td> 7.358405</td>\n",
        "    </tr>\n",
        "  </tbody>\n",
        "</table>\n",
        "<p>1 rows \u00d7 3 columns</p>\n",
        "</div>"
       ],
       "metadata": {},
       "output_type": "pyout",
       "prompt_number": 20,
       "text": [
        "     node sensor    stdDev\n",
        "152  pi13  ATX12  7.358405\n",
        "\n",
        "[1 rows x 3 columns]"
       ]
      }
     ],
     "prompt_number": 20
    },
    {
     "cell_type": "code",
     "collapsed": false,
     "input": [
      "#total number of time series readings\n",
      "df.shape"
     ],
     "language": "python",
     "metadata": {},
     "outputs": [
      {
       "metadata": {},
       "output_type": "pyout",
       "prompt_number": 107,
       "text": [
        "(632, 3)"
       ]
      }
     ],
     "prompt_number": 107
    },
    {
     "cell_type": "code",
     "collapsed": false,
     "input": [
      "#72 time series with VERY SMALL deviations\n",
      "low=df[(df.stdDev < 1e-5)]\n",
      "low.shape"
     ],
     "language": "python",
     "metadata": {},
     "outputs": [
      {
       "metadata": {},
       "output_type": "pyout",
       "prompt_number": 8,
       "text": [
        "(72, 3)"
       ]
      }
     ],
     "prompt_number": 8
    },
    {
     "cell_type": "code",
     "collapsed": false,
     "input": [
      "#half of these are Tina\n",
      "df[df.sensor == 'Tina'].shape"
     ],
     "language": "python",
     "metadata": {},
     "outputs": [
      {
       "metadata": {},
       "output_type": "pyout",
       "prompt_number": 9,
       "text": [
        "(36, 3)"
       ]
      }
     ],
     "prompt_number": 9
    },
    {
     "cell_type": "code",
     "collapsed": false,
     "input": [
      "#other half of these are Tinb\n",
      "df[df.sensor == 'Tinb'].shape"
     ],
     "language": "python",
     "metadata": {},
     "outputs": [
      {
       "metadata": {},
       "output_type": "pyout",
       "prompt_number": 10,
       "text": [
        "(36, 3)"
       ]
      }
     ],
     "prompt_number": 10
    },
    {
     "cell_type": "code",
     "collapsed": false,
     "input": [
      "#zoom into time series with small stdDev\n",
      "smaller = df[df.stdDev < 0.1]\n",
      "pd.DataFrame.hist(smaller, column=['stdDev'], bins=100, figsize=(20,6))"
     ],
     "language": "python",
     "metadata": {},
     "outputs": [
      {
       "metadata": {},
       "output_type": "pyout",
       "prompt_number": 131,
       "text": [
        "array([[<matplotlib.axes.AxesSubplot object at 0x7fdf558ba050>]], dtype=object)"
       ]
      },
      {
       "metadata": {},
       "output_type": "display_data",
       "png": "[encoded data removed]",
       "text": [
        "<matplotlib.figure.Figure at 0x7fdf58994090>"
       ]
      }
     ],
     "prompt_number": 131
    },
    {
     "cell_type": "code",
     "collapsed": false,
     "input": [
      "#other sensors that show VERY LOW stdDev\n",
      "smaller[(smaller.stdDev < 0.01) & (smaller.stdDev > 0.001)]"
     ],
     "language": "python",
     "metadata": {},
     "outputs": [
      {
       "html": [
        "<div style=\"max-height:1000px;max-width:1500px;overflow:auto;\">\n",
        "<table border=\"1\" class=\"dataframe\">\n",
        "  <thead>\n",
        "    <tr style=\"text-align: right;\">\n",
        "      <th></th>\n",
        "      <th>node</th>\n",
        "      <th>sensor</th>\n",
        "      <th>stdDev</th>\n",
        "    </tr>\n",
        "  </thead>\n",
        "  <tbody>\n",
        "    <tr>\n",
        "      <th>1  </th>\n",
        "      <td> pi03</td>\n",
        "      <td>   ATX5</td>\n",
        "      <td> 0.007069</td>\n",
        "    </tr>\n",
        "    <tr>\n",
        "      <th>6  </th>\n",
        "      <td> pi03</td>\n",
        "      <td> ATX5sb</td>\n",
        "      <td> 0.001450</td>\n",
        "    </tr>\n",
        "    <tr>\n",
        "      <th>35 </th>\n",
        "      <td> pi03</td>\n",
        "      <td>   MEM2</td>\n",
        "      <td> 0.003474</td>\n",
        "    </tr>\n",
        "    <tr>\n",
        "      <th>277</th>\n",
        "      <td> pi03</td>\n",
        "      <td>   CPU1</td>\n",
        "      <td> 0.009169</td>\n",
        "    </tr>\n",
        "    <tr>\n",
        "      <th>396</th>\n",
        "      <td> pi03</td>\n",
        "      <td>   MEM1</td>\n",
        "      <td> 0.003725</td>\n",
        "    </tr>\n",
        "    <tr>\n",
        "      <th>421</th>\n",
        "      <td> pi03</td>\n",
        "      <td> ATX3.3</td>\n",
        "      <td> 0.001725</td>\n",
        "    </tr>\n",
        "    <tr>\n",
        "      <th>520</th>\n",
        "      <td> pi03</td>\n",
        "      <td>  ATX12</td>\n",
        "      <td> 0.007219</td>\n",
        "    </tr>\n",
        "  </tbody>\n",
        "</table>\n",
        "<p>7 rows \u00d7 3 columns</p>\n",
        "</div>"
       ],
       "metadata": {},
       "output_type": "pyout",
       "prompt_number": 143,
       "text": [
        "     node  sensor    stdDev\n",
        "1    pi03    ATX5  0.007069\n",
        "6    pi03  ATX5sb  0.001450\n",
        "35   pi03    MEM2  0.003474\n",
        "277  pi03    CPU1  0.009169\n",
        "396  pi03    MEM1  0.003725\n",
        "421  pi03  ATX3.3  0.001725\n",
        "520  pi03   ATX12  0.007219\n",
        "\n",
        "[7 rows x 3 columns]"
       ]
      }
     ],
     "prompt_number": 143
    },
    {
     "cell_type": "code",
     "collapsed": false,
     "input": [
      "#mean stdDev of sensor = ATX5\n",
      "np.mean(df[(df.sensor == 'ATX5')].stdDev.tolist())"
     ],
     "language": "python",
     "metadata": {},
     "outputs": [
      {
       "metadata": {},
       "output_type": "pyout",
       "prompt_number": 144,
       "text": [
        "1.0516634034688463"
       ]
      }
     ],
     "prompt_number": 144
    },
    {
     "cell_type": "code",
     "collapsed": false,
     "input": [
      "#mean stdDev of sensor = CPU2\n",
      "np.mean(df[(df.sensor == 'CPU2')].stdDev.tolist())"
     ],
     "language": "python",
     "metadata": {},
     "outputs": [
      {
       "metadata": {},
       "output_type": "pyout",
       "prompt_number": 145,
       "text": [
        "3.0551991190103474"
       ]
      }
     ],
     "prompt_number": 145
    },
    {
     "cell_type": "code",
     "collapsed": false,
     "input": [
      "#mean stdDev of sensor = MEM2\n",
      "np.mean(df[(df.sensor == 'MEM2')].stdDev.tolist())"
     ],
     "language": "python",
     "metadata": {},
     "outputs": [
      {
       "metadata": {},
       "output_type": "pyout",
       "prompt_number": 146,
       "text": [
        "0.88291475452388046"
       ]
      }
     ],
     "prompt_number": 146
    },
    {
     "cell_type": "code",
     "collapsed": false,
     "input": [
      "#mean stdDev of sensor = CPU1\n",
      "np.mean(df[(df.sensor == 'CPU1')].stdDev.tolist())"
     ],
     "language": "python",
     "metadata": {},
     "outputs": [
      {
       "metadata": {},
       "output_type": "pyout",
       "prompt_number": 147,
       "text": [
        "2.2876510590201593"
       ]
      }
     ],
     "prompt_number": 147
    },
    {
     "cell_type": "code",
     "collapsed": false,
     "input": [
      "#mean stdDev of sensor = MEM1\n",
      "np.mean(df[(df.sensor == 'MEM1')].stdDev.tolist())"
     ],
     "language": "python",
     "metadata": {},
     "outputs": [
      {
       "metadata": {},
       "output_type": "pyout",
       "prompt_number": 148,
       "text": [
        "0.87676718222131145"
       ]
      }
     ],
     "prompt_number": 148
    },
    {
     "cell_type": "code",
     "collapsed": false,
     "input": [
      "#mean stdDev of sensor = ATX3.3\n",
      "np.mean(df[(df.sensor == 'ATX3.3')].stdDev.tolist())"
     ],
     "language": "python",
     "metadata": {},
     "outputs": [
      {
       "metadata": {},
       "output_type": "pyout",
       "prompt_number": 149,
       "text": [
        "0.22937383397846198"
       ]
      }
     ],
     "prompt_number": 149
    },
    {
     "cell_type": "code",
     "collapsed": false,
     "input": [
      "#mean stdDev of sensor = ATX12\n",
      "np.mean(df[(df.sensor == 'ATX12')].stdDev.tolist())"
     ],
     "language": "python",
     "metadata": {},
     "outputs": [
      {
       "metadata": {},
       "output_type": "pyout",
       "prompt_number": 150,
       "text": [
        "1.8032538016315225"
       ]
      }
     ],
     "prompt_number": 150
    },
    {
     "cell_type": "code",
     "collapsed": false,
     "input": [
      "#mean stdDev of sensor = \n",
      "np.mean(df[(df.sensor == 'ATX5sb')].stdDev.tolist())"
     ],
     "language": "python",
     "metadata": {},
     "outputs": [
      {
       "metadata": {},
       "output_type": "pyout",
       "prompt_number": 7,
       "text": [
        "0.084441205810243891"
       ]
      }
     ],
     "prompt_number": 7
    },
    {
     "cell_type": "code",
     "collapsed": true,
     "input": [
      "np.stdtimeseriesdict[('pi29', 'Tinb')]"
     ],
     "language": "python",
     "metadata": {},
     "outputs": [
      {
       "html": [
        "<div style=\"max-height:1000px;max-width:1500px;overflow:auto;\">\n",
        "<table border=\"1\" class=\"dataframe\">\n",
        "  <thead>\n",
        "    <tr style=\"text-align: right;\">\n",
        "      <th></th>\n",
        "      <th>time</th>\n",
        "      <th>value</th>\n",
        "    </tr>\n",
        "  </thead>\n",
        "  <tbody>\n",
        "    <tr>\n",
        "      <th>12  </th>\n",
        "      <td>  2016-02-12T20:20:30.56154112Z</td>\n",
        "      <td> 21.57</td>\n",
        "    </tr>\n",
        "    <tr>\n",
        "      <th>31  </th>\n",
        "      <td> 2016-02-12T20:20:31.565079808Z</td>\n",
        "      <td> 21.57</td>\n",
        "    </tr>\n",
        "    <tr>\n",
        "      <th>50  </th>\n",
        "      <td>  2016-02-12T20:20:32.56564096Z</td>\n",
        "      <td> 21.57</td>\n",
        "    </tr>\n",
        "    <tr>\n",
        "      <th>69  </th>\n",
        "      <td> 2016-02-12T20:20:33.565356032Z</td>\n",
        "      <td> 21.57</td>\n",
        "    </tr>\n",
        "    <tr>\n",
        "      <th>88  </th>\n",
        "      <td> 2016-02-12T20:20:34.565587968Z</td>\n",
        "      <td> 21.57</td>\n",
        "    </tr>\n",
        "    <tr>\n",
        "      <th>107 </th>\n",
        "      <td> 2016-02-12T20:20:35.565490944Z</td>\n",
        "      <td> 21.57</td>\n",
        "    </tr>\n",
        "    <tr>\n",
        "      <th>126 </th>\n",
        "      <td> 2016-02-12T20:20:36.565992192Z</td>\n",
        "      <td> 21.57</td>\n",
        "    </tr>\n",
        "    <tr>\n",
        "      <th>145 </th>\n",
        "      <td> 2016-02-12T20:20:37.566157056Z</td>\n",
        "      <td> 21.57</td>\n",
        "    </tr>\n",
        "    <tr>\n",
        "      <th>164 </th>\n",
        "      <td> 2016-02-12T20:20:38.566673152Z</td>\n",
        "      <td> 21.57</td>\n",
        "    </tr>\n",
        "    <tr>\n",
        "      <th>183 </th>\n",
        "      <td>  2016-02-12T20:20:39.56658688Z</td>\n",
        "      <td> 21.57</td>\n",
        "    </tr>\n",
        "    <tr>\n",
        "      <th>202 </th>\n",
        "      <td> 2016-02-12T20:20:40.570323968Z</td>\n",
        "      <td> 21.57</td>\n",
        "    </tr>\n",
        "    <tr>\n",
        "      <th>221 </th>\n",
        "      <td> 2016-02-12T20:20:41.571090944Z</td>\n",
        "      <td> 21.57</td>\n",
        "    </tr>\n",
        "    <tr>\n",
        "      <th>240 </th>\n",
        "      <td> 2016-02-12T20:20:42.571291904Z</td>\n",
        "      <td> 21.57</td>\n",
        "    </tr>\n",
        "    <tr>\n",
        "      <th>259 </th>\n",
        "      <td> 2016-02-12T20:20:43.571166976Z</td>\n",
        "      <td> 21.57</td>\n",
        "    </tr>\n",
        "    <tr>\n",
        "      <th>278 </th>\n",
        "      <td> 2016-02-12T20:20:44.571279104Z</td>\n",
        "      <td> 21.57</td>\n",
        "    </tr>\n",
        "    <tr>\n",
        "      <th>297 </th>\n",
        "      <td> 2016-02-12T20:20:45.571094016Z</td>\n",
        "      <td> 21.57</td>\n",
        "    </tr>\n",
        "    <tr>\n",
        "      <th>316 </th>\n",
        "      <td> 2016-02-12T20:20:46.572738816Z</td>\n",
        "      <td> 21.57</td>\n",
        "    </tr>\n",
        "    <tr>\n",
        "      <th>335 </th>\n",
        "      <td>  2016-02-12T20:20:47.57205888Z</td>\n",
        "      <td> 21.57</td>\n",
        "    </tr>\n",
        "    <tr>\n",
        "      <th>354 </th>\n",
        "      <td> 2016-02-12T20:20:48.573401856Z</td>\n",
        "      <td> 21.57</td>\n",
        "    </tr>\n",
        "    <tr>\n",
        "      <th>373 </th>\n",
        "      <td> 2016-02-12T20:20:49.571692032Z</td>\n",
        "      <td> 21.57</td>\n",
        "    </tr>\n",
        "    <tr>\n",
        "      <th>392 </th>\n",
        "      <td> 2016-02-12T20:20:50.574928128Z</td>\n",
        "      <td> 21.57</td>\n",
        "    </tr>\n",
        "    <tr>\n",
        "      <th>411 </th>\n",
        "      <td> 2016-02-12T20:20:51.574904832Z</td>\n",
        "      <td> 21.57</td>\n",
        "    </tr>\n",
        "    <tr>\n",
        "      <th>430 </th>\n",
        "      <td> 2016-02-12T20:20:52.575609856Z</td>\n",
        "      <td> 21.57</td>\n",
        "    </tr>\n",
        "    <tr>\n",
        "      <th>449 </th>\n",
        "      <td> 2016-02-12T20:20:53.575717888Z</td>\n",
        "      <td> 21.57</td>\n",
        "    </tr>\n",
        "    <tr>\n",
        "      <th>468 </th>\n",
        "      <td> 2016-02-12T20:20:54.575603968Z</td>\n",
        "      <td> 21.57</td>\n",
        "    </tr>\n",
        "    <tr>\n",
        "      <th>487 </th>\n",
        "      <td>  2016-02-12T20:20:55.57582592Z</td>\n",
        "      <td> 21.57</td>\n",
        "    </tr>\n",
        "    <tr>\n",
        "      <th>506 </th>\n",
        "      <td> 2016-02-12T20:20:56.576147968Z</td>\n",
        "      <td> 21.57</td>\n",
        "    </tr>\n",
        "    <tr>\n",
        "      <th>525 </th>\n",
        "      <td>  2016-02-12T20:20:57.57616896Z</td>\n",
        "      <td> 21.57</td>\n",
        "    </tr>\n",
        "    <tr>\n",
        "      <th>544 </th>\n",
        "      <td>  2016-02-12T20:20:58.57670912Z</td>\n",
        "      <td> 21.57</td>\n",
        "    </tr>\n",
        "    <tr>\n",
        "      <th>563 </th>\n",
        "      <td> 2016-02-12T20:20:59.576610048Z</td>\n",
        "      <td> 21.57</td>\n",
        "    </tr>\n",
        "    <tr>\n",
        "      <th>582 </th>\n",
        "      <td> 2016-02-12T20:21:00.580073984Z</td>\n",
        "      <td> 21.57</td>\n",
        "    </tr>\n",
        "    <tr>\n",
        "      <th>601 </th>\n",
        "      <td> 2016-02-12T20:21:01.579834112Z</td>\n",
        "      <td> 21.57</td>\n",
        "    </tr>\n",
        "    <tr>\n",
        "      <th>620 </th>\n",
        "      <td>  2016-02-12T20:21:02.58003584Z</td>\n",
        "      <td> 21.57</td>\n",
        "    </tr>\n",
        "    <tr>\n",
        "      <th>639 </th>\n",
        "      <td> 2016-02-12T20:21:03.580528128Z</td>\n",
        "      <td> 21.57</td>\n",
        "    </tr>\n",
        "    <tr>\n",
        "      <th>658 </th>\n",
        "      <td>  2016-02-12T20:21:04.58240896Z</td>\n",
        "      <td> 21.57</td>\n",
        "    </tr>\n",
        "    <tr>\n",
        "      <th>677 </th>\n",
        "      <td>    2016-02-12T20:21:05.581568Z</td>\n",
        "      <td> 21.57</td>\n",
        "    </tr>\n",
        "    <tr>\n",
        "      <th>696 </th>\n",
        "      <td> 2016-02-12T20:21:06.582828032Z</td>\n",
        "      <td> 21.57</td>\n",
        "    </tr>\n",
        "    <tr>\n",
        "      <th>715 </th>\n",
        "      <td> 2016-02-12T20:21:07.580802816Z</td>\n",
        "      <td> 21.57</td>\n",
        "    </tr>\n",
        "    <tr>\n",
        "      <th>734 </th>\n",
        "      <td> 2016-02-12T20:21:08.581334016Z</td>\n",
        "      <td> 21.57</td>\n",
        "    </tr>\n",
        "    <tr>\n",
        "      <th>753 </th>\n",
        "      <td>     2016-02-12T20:21:09.58128Z</td>\n",
        "      <td> 21.57</td>\n",
        "    </tr>\n",
        "    <tr>\n",
        "      <th>772 </th>\n",
        "      <td> 2016-02-12T20:21:10.583739904Z</td>\n",
        "      <td> 21.57</td>\n",
        "    </tr>\n",
        "    <tr>\n",
        "      <th>791 </th>\n",
        "      <td> 2016-02-12T20:21:11.583874048Z</td>\n",
        "      <td> 21.57</td>\n",
        "    </tr>\n",
        "    <tr>\n",
        "      <th>810 </th>\n",
        "      <td>  2016-02-12T20:21:12.58412288Z</td>\n",
        "      <td> 21.57</td>\n",
        "    </tr>\n",
        "    <tr>\n",
        "      <th>829 </th>\n",
        "      <td>  2016-02-12T20:21:13.58472192Z</td>\n",
        "      <td> 21.57</td>\n",
        "    </tr>\n",
        "    <tr>\n",
        "      <th>848 </th>\n",
        "      <td>   2016-02-12T20:21:14.5852352Z</td>\n",
        "      <td> 21.57</td>\n",
        "    </tr>\n",
        "    <tr>\n",
        "      <th>867 </th>\n",
        "      <td>   2016-02-12T20:21:15.5851008Z</td>\n",
        "      <td> 21.57</td>\n",
        "    </tr>\n",
        "    <tr>\n",
        "      <th>886 </th>\n",
        "      <td> 2016-02-12T20:21:16.585513216Z</td>\n",
        "      <td> 21.57</td>\n",
        "    </tr>\n",
        "    <tr>\n",
        "      <th>905 </th>\n",
        "      <td> 2016-02-12T20:21:17.585174016Z</td>\n",
        "      <td> 21.57</td>\n",
        "    </tr>\n",
        "    <tr>\n",
        "      <th>924 </th>\n",
        "      <td>  2016-02-12T20:21:18.58560896Z</td>\n",
        "      <td> 21.57</td>\n",
        "    </tr>\n",
        "    <tr>\n",
        "      <th>943 </th>\n",
        "      <td> 2016-02-12T20:21:19.585513216Z</td>\n",
        "      <td> 21.57</td>\n",
        "    </tr>\n",
        "    <tr>\n",
        "      <th>962 </th>\n",
        "      <td>  2016-02-12T20:21:20.58945792Z</td>\n",
        "      <td> 21.57</td>\n",
        "    </tr>\n",
        "    <tr>\n",
        "      <th>981 </th>\n",
        "      <td> 2016-02-12T20:21:21.589281024Z</td>\n",
        "      <td> 21.57</td>\n",
        "    </tr>\n",
        "    <tr>\n",
        "      <th>1000</th>\n",
        "      <td> 2016-02-12T20:21:22.589839872Z</td>\n",
        "      <td> 21.57</td>\n",
        "    </tr>\n",
        "    <tr>\n",
        "      <th>1019</th>\n",
        "      <td> 2016-02-12T20:21:23.591451904Z</td>\n",
        "      <td> 21.57</td>\n",
        "    </tr>\n",
        "    <tr>\n",
        "      <th>1038</th>\n",
        "      <td>  2016-02-12T20:21:24.58971008Z</td>\n",
        "      <td> 21.57</td>\n",
        "    </tr>\n",
        "    <tr>\n",
        "      <th>1057</th>\n",
        "      <td>  2016-02-12T20:21:25.58922496Z</td>\n",
        "      <td> 21.57</td>\n",
        "    </tr>\n",
        "    <tr>\n",
        "      <th>1076</th>\n",
        "      <td> 2016-02-12T20:21:26.589485056Z</td>\n",
        "      <td> 21.57</td>\n",
        "    </tr>\n",
        "    <tr>\n",
        "      <th>1095</th>\n",
        "      <td>  2016-02-12T20:21:27.58964992Z</td>\n",
        "      <td> 21.57</td>\n",
        "    </tr>\n",
        "    <tr>\n",
        "      <th>1114</th>\n",
        "      <td> 2016-02-12T20:21:28.590241792Z</td>\n",
        "      <td> 21.57</td>\n",
        "    </tr>\n",
        "    <tr>\n",
        "      <th>1133</th>\n",
        "      <td> 2016-02-12T20:21:29.590194944Z</td>\n",
        "      <td> 21.57</td>\n",
        "    </tr>\n",
        "    <tr>\n",
        "      <th></th>\n",
        "      <td>...</td>\n",
        "      <td>...</td>\n",
        "    </tr>\n",
        "  </tbody>\n",
        "</table>\n",
        "<p>160000 rows \u00d7 2 columns</p>\n",
        "</div>"
       ],
       "metadata": {},
       "output_type": "pyout",
       "prompt_number": 21,
       "text": [
        "                                time  value\n",
        "12     2016-02-12T20:20:30.56154112Z  21.57\n",
        "31    2016-02-12T20:20:31.565079808Z  21.57\n",
        "50     2016-02-12T20:20:32.56564096Z  21.57\n",
        "69    2016-02-12T20:20:33.565356032Z  21.57\n",
        "88    2016-02-12T20:20:34.565587968Z  21.57\n",
        "107   2016-02-12T20:20:35.565490944Z  21.57\n",
        "126   2016-02-12T20:20:36.565992192Z  21.57\n",
        "145   2016-02-12T20:20:37.566157056Z  21.57\n",
        "164   2016-02-12T20:20:38.566673152Z  21.57\n",
        "183    2016-02-12T20:20:39.56658688Z  21.57\n",
        "202   2016-02-12T20:20:40.570323968Z  21.57\n",
        "221   2016-02-12T20:20:41.571090944Z  21.57\n",
        "240   2016-02-12T20:20:42.571291904Z  21.57\n",
        "259   2016-02-12T20:20:43.571166976Z  21.57\n",
        "278   2016-02-12T20:20:44.571279104Z  21.57\n",
        "297   2016-02-12T20:20:45.571094016Z  21.57\n",
        "316   2016-02-12T20:20:46.572738816Z  21.57\n",
        "335    2016-02-12T20:20:47.57205888Z  21.57\n",
        "354   2016-02-12T20:20:48.573401856Z  21.57\n",
        "373   2016-02-12T20:20:49.571692032Z  21.57\n",
        "392   2016-02-12T20:20:50.574928128Z  21.57\n",
        "411   2016-02-12T20:20:51.574904832Z  21.57\n",
        "430   2016-02-12T20:20:52.575609856Z  21.57\n",
        "449   2016-02-12T20:20:53.575717888Z  21.57\n",
        "468   2016-02-12T20:20:54.575603968Z  21.57\n",
        "487    2016-02-12T20:20:55.57582592Z  21.57\n",
        "506   2016-02-12T20:20:56.576147968Z  21.57\n",
        "525    2016-02-12T20:20:57.57616896Z  21.57\n",
        "544    2016-02-12T20:20:58.57670912Z  21.57\n",
        "563   2016-02-12T20:20:59.576610048Z  21.57\n",
        "582   2016-02-12T20:21:00.580073984Z  21.57\n",
        "601   2016-02-12T20:21:01.579834112Z  21.57\n",
        "620    2016-02-12T20:21:02.58003584Z  21.57\n",
        "639   2016-02-12T20:21:03.580528128Z  21.57\n",
        "658    2016-02-12T20:21:04.58240896Z  21.57\n",
        "677      2016-02-12T20:21:05.581568Z  21.57\n",
        "696   2016-02-12T20:21:06.582828032Z  21.57\n",
        "715   2016-02-12T20:21:07.580802816Z  21.57\n",
        "734   2016-02-12T20:21:08.581334016Z  21.57\n",
        "753       2016-02-12T20:21:09.58128Z  21.57\n",
        "772   2016-02-12T20:21:10.583739904Z  21.57\n",
        "791   2016-02-12T20:21:11.583874048Z  21.57\n",
        "810    2016-02-12T20:21:12.58412288Z  21.57\n",
        "829    2016-02-12T20:21:13.58472192Z  21.57\n",
        "848     2016-02-12T20:21:14.5852352Z  21.57\n",
        "867     2016-02-12T20:21:15.5851008Z  21.57\n",
        "886   2016-02-12T20:21:16.585513216Z  21.57\n",
        "905   2016-02-12T20:21:17.585174016Z  21.57\n",
        "924    2016-02-12T20:21:18.58560896Z  21.57\n",
        "943   2016-02-12T20:21:19.585513216Z  21.57\n",
        "962    2016-02-12T20:21:20.58945792Z  21.57\n",
        "981   2016-02-12T20:21:21.589281024Z  21.57\n",
        "1000  2016-02-12T20:21:22.589839872Z  21.57\n",
        "1019  2016-02-12T20:21:23.591451904Z  21.57\n",
        "1038   2016-02-12T20:21:24.58971008Z  21.57\n",
        "1057   2016-02-12T20:21:25.58922496Z  21.57\n",
        "1076  2016-02-12T20:21:26.589485056Z  21.57\n",
        "1095   2016-02-12T20:21:27.58964992Z  21.57\n",
        "1114  2016-02-12T20:21:28.590241792Z  21.57\n",
        "1133  2016-02-12T20:21:29.590194944Z  21.57\n",
        "                                 ...    ...\n",
        "\n",
        "[160000 rows x 2 columns]"
       ]
      }
     ],
     "prompt_number": 21
    },
    {
     "cell_type": "code",
     "collapsed": false,
     "input": [
      "#every Tina and Tinb time series has ~0 std dev\n",
      "for key, tsK in timeseriesdict.iteritems():\n",
      "    if key[1] == 'Tina' or key[1] == 'Tinb':\n",
      "        deviation=np.std(tsK['value'].tolist())\n",
      "        print key[0] + ',' + key[1] + ',' + str(deviation)"
     ],
     "language": "python",
     "metadata": {},
     "outputs": [
      {
       "output_type": "stream",
       "stream": "stdout",
       "text": [
        "pi29,Tinb,5.28217469764e-11\n",
        "pi42,Tinb,3.02762259707e-11\n",
        "pi02,Tina,4.92512697292e-11\n",
        "pi25,Tina,4.63273863716e-11"
       ]
      },
      {
       "output_type": "stream",
       "stream": "stdout",
       "text": [
        "\n",
        "pi31,Tina,5.91775517478e-11\n",
        "pi30,Tinb,6.53557208352e-11\n",
        "pi45,Tinb,0.0"
       ]
      },
      {
       "output_type": "stream",
       "stream": "stdout",
       "text": [
        "\n",
        "pi18,Tina,4.72617500691e-11\n",
        "pi37,Tinb,5.45128386875e-11\n",
        "pi36,Tinb,8.35811420075e-11"
       ]
      },
      {
       "output_type": "stream",
       "stream": "stdout",
       "text": [
        "\n",
        "pi22,Tinb,8.6849638592e-11\n",
        "pi14,Tina,5.39053246484e-11\n",
        "pi13,Tina,4.5780268465e-11"
       ]
      },
      {
       "output_type": "stream",
       "stream": "stdout",
       "text": [
        "\n",
        "pi38,Tina,6.37143671156e-11\n",
        "pi43,Tinb,5.34043920197e-11\n",
        "pi35,Tinb,5.54116752483e-11"
       ]
      },
      {
       "output_type": "stream",
       "stream": "stdout",
       "text": [
        "\n",
        "pi28,Tina,4.69064787012e-11\n",
        "pi19,Tina,4.73576733384e-11\n",
        "pi26,Tinb,1.68967062564e-11"
       ]
      },
      {
       "output_type": "stream",
       "stream": "stdout",
       "text": [
        "\n",
        "pi39,Tinb,4.71622740861e-11\n",
        "pi21,Tina,4.04583033742e-11\n",
        "pi36,Tina,6.37143671156e-11"
       ]
      },
      {
       "output_type": "stream",
       "stream": "stdout",
       "text": [
        "\n",
        "pi29,Tina,2.28261853863e-11\n",
        "pi33,Tina,0.0\n",
        "pi47,Tinb,4.71622740861e-11"
       ]
      },
      {
       "output_type": "stream",
       "stream": "stdout",
       "text": [
        "\n",
        "pi48,Tinb,8.35811420075e-11\n",
        "pi02,Tinb,3.09938741339e-11\n",
        "pi40,Tina,8.0422779547e-11"
       ]
      },
      {
       "output_type": "stream",
       "stream": "stdout",
       "text": [
        "\n",
        "pi32,Tinb,1.68398628375e-11\n",
        "pi20,Tina,9.81188463811e-11\n",
        "pi48,Tina,3.50190987319e-11"
       ]
      },
      {
       "output_type": "stream",
       "stream": "stdout",
       "text": [
        "\n",
        "pi41,Tina,5.94972959789e-11\n",
        "pi24,Tina,0.0\n",
        "pi47,Tina,7.57616192004e-11"
       ]
      },
      {
       "output_type": "stream",
       "stream": "stdout",
       "text": [
        "\n",
        "pi16,Tina,1.6878942688e-11\n",
        "pi08,Tinb,4.70130601116e-11\n",
        "pi43,Tina,0.0"
       ]
      },
      {
       "output_type": "stream",
       "stream": "stdout",
       "text": [
        "\n",
        "pi12,Tina,0.0\n",
        "pi19,Tinb,1.69926295257e-11\n",
        "pi32,Tina,4.5780268465e-11"
       ]
      },
      {
       "output_type": "stream",
       "stream": "stdout",
       "text": [
        "\n",
        "pi03,Tinb,6.27657925634e-11\n",
        "pi27,Tina,2.28261853863e-11\n",
        "pi33,Tinb,3.06314973386e-11"
       ]
      },
      {
       "output_type": "stream",
       "stream": "stdout",
       "text": [
        "\n",
        "pi22,Tina,7.65787433465e-11\n",
        "pi30,Tina,6.33164631836e-11\n",
        "pi20,Tinb,0.0"
       ]
      },
      {
       "output_type": "stream",
       "stream": "stdout",
       "text": [
        "\n",
        "pi06,Tina,6.69579947044e-11\n",
        "pi38,Tinb,6.65778543407e-11\n",
        "pi15,Tina,6.69579947044e-11"
       ]
      },
      {
       "output_type": "stream",
       "stream": "stdout",
       "text": [
        "\n",
        "pi35,Tina,6.53557208352e-11\n",
        "pi24,Tinb,3.03295166759e-11\n",
        "pi31,Tinb,6.69579947044e-11"
       ]
      },
      {
       "output_type": "stream",
       "stream": "stdout",
       "text": [
        "\n",
        "pi26,Tina,7.65787433465e-11\n",
        "pi41,Tinb,0.0\n",
        "pi13,Tinb,3.03295166759e-11"
       ]
      },
      {
       "output_type": "stream",
       "stream": "stdout",
       "text": [
        "\n",
        "pi42,Tina,6.33164631836e-11\n",
        "pi25,Tinb,6.03428418344e-11\n",
        "pi39,Tina,3.01128011415e-11"
       ]
      },
      {
       "output_type": "stream",
       "stream": "stdout",
       "text": [
        "\n",
        "pi40,Tinb,6.69579947044e-11\n",
        "pi28,Tinb,4.72120120776e-11\n",
        "pi18,Tinb,2.86277668238e-11"
       ]
      },
      {
       "output_type": "stream",
       "stream": "stdout",
       "text": [
        "\n",
        "pi16,Tinb,3.04325453726e-11\n",
        "pi03,Tina,6.21120932465e-11\n",
        "pi08,Tina,3.01128011415e-11"
       ]
      },
      {
       "output_type": "stream",
       "stream": "stdout",
       "text": [
        "\n",
        "pi06,Tinb,7.77582442879e-11\n",
        "pi37,Tina,1.68576264059e-11\n",
        "pi15,Tinb,3.04076763769e-11"
       ]
      },
      {
       "output_type": "stream",
       "stream": "stdout",
       "text": [
        "\n",
        "pi14,Tinb,1.69180225384e-11\n",
        "pi12,Tinb,1.68967062564e-11\n",
        "pi45,Tina,4.93116658618e-11"
       ]
      },
      {
       "output_type": "stream",
       "stream": "stdout",
       "text": [
        "\n",
        "pi21,Tinb,6.10747008523e-11\n",
        "pi27,Tinb,1.68967062564e-11\n"
       ]
      }
     ],
     "prompt_number": 30
    },
    {
     "cell_type": "code",
     "collapsed": false,
     "input": [
      "coll = pd.DataFrame(columns=('sensor','min_stdDev','max_stdDev','avg_stdDev'))\n",
      "i = 0\n",
      "for sensor in sensors:\n",
      "    Z = df[(df.sensor == sensor)]\n",
      "    mn = np.min(Z.stdDev.tolist())\n",
      "    mx = np.max(Z.stdDev.tolist())\n",
      "    sensorGlobalMeanOfStdDev = np.mean(Z.stdDev.tolist())\n",
      "    #print sensor, sensorGlobalMeanOfStdDev\n",
      "    coll.loc[i] = [sensor, mn, mx, sensorGlobalMeanOfStdDev]\n",
      "    i+=1"
     ],
     "language": "python",
     "metadata": {},
     "outputs": [],
     "prompt_number": 63
    },
    {
     "cell_type": "code",
     "collapsed": false,
     "input": [
      "pd.DataFrame.hist(coll, column=['avg_stdDev'], bins=90, figsize=(20,6))"
     ],
     "language": "python",
     "metadata": {},
     "outputs": [
      {
       "metadata": {},
       "output_type": "pyout",
       "prompt_number": 64,
       "text": [
        "array([[<matplotlib.axes.AxesSubplot object at 0x7fe9d5561110>]], dtype=object)"
       ]
      },
      {
       "metadata": {},
       "output_type": "display_data",
       "png": "[encoded data removed]",
       "text": [
        "<matplotlib.figure.Figure at 0x7fe9d55056d0>"
       ]
      }
     ],
     "prompt_number": 64
    },
    {
     "cell_type": "code",
     "collapsed": false,
     "input": [
      "coll.sort(columns='avg_stdDev')"
     ],
     "language": "python",
     "metadata": {},
     "outputs": [
      {
       "html": [
        "<div style=\"max-height:1000px;max-width:1500px;overflow:auto;\">\n",
        "<table border=\"1\" class=\"dataframe\">\n",
        "  <thead>\n",
        "    <tr style=\"text-align: right;\">\n",
        "      <th></th>\n",
        "      <th>sensor</th>\n",
        "      <th>min_stdDev</th>\n",
        "      <th>max_stdDev</th>\n",
        "      <th>avg_stdDev</th>\n",
        "    </tr>\n",
        "  </thead>\n",
        "  <tbody>\n",
        "    <tr>\n",
        "      <th>12</th>\n",
        "      <td>   Tinb</td>\n",
        "      <td>           0</td>\n",
        "      <td> 8.684964e-11</td>\n",
        "      <td> 4.249924e-11</td>\n",
        "    </tr>\n",
        "    <tr>\n",
        "      <th>11</th>\n",
        "      <td>   Tina</td>\n",
        "      <td>           0</td>\n",
        "      <td> 9.811885e-11</td>\n",
        "      <td> 4.690431e-11</td>\n",
        "    </tr>\n",
        "    <tr>\n",
        "      <th>14</th>\n",
        "      <td>  Tcpu2</td>\n",
        "      <td>  0.04018142</td>\n",
        "      <td>    0.1429804</td>\n",
        "      <td>   0.06743661</td>\n",
        "    </tr>\n",
        "    <tr>\n",
        "      <th>15</th>\n",
        "      <td>   Thca</td>\n",
        "      <td>   0.0485091</td>\n",
        "      <td>    0.1433203</td>\n",
        "      <td>    0.0676511</td>\n",
        "    </tr>\n",
        "    <tr>\n",
        "      <th>16</th>\n",
        "      <td>  Tmem1</td>\n",
        "      <td>  0.03785951</td>\n",
        "      <td>    0.2969936</td>\n",
        "      <td>    0.0700458</td>\n",
        "    </tr>\n",
        "    <tr>\n",
        "      <th>13</th>\n",
        "      <td>  Tcpu1</td>\n",
        "      <td>  0.03651546</td>\n",
        "      <td>    0.3623649</td>\n",
        "      <td>    0.0731439</td>\n",
        "    </tr>\n",
        "    <tr>\n",
        "      <th>18</th>\n",
        "      <td>   Tout</td>\n",
        "      <td>  0.03781853</td>\n",
        "      <td>    0.1835042</td>\n",
        "      <td>   0.07984292</td>\n",
        "    </tr>\n",
        "    <tr>\n",
        "      <th>7 </th>\n",
        "      <td> ATX5sb</td>\n",
        "      <td> 0.001450201</td>\n",
        "      <td>    0.1462766</td>\n",
        "      <td>   0.08444121</td>\n",
        "    </tr>\n",
        "    <tr>\n",
        "      <th>17</th>\n",
        "      <td>  Tmem2</td>\n",
        "      <td>  0.04126999</td>\n",
        "      <td>    0.4282935</td>\n",
        "      <td>   0.09386212</td>\n",
        "    </tr>\n",
        "    <tr>\n",
        "      <th>10</th>\n",
        "      <td>   HDD5</td>\n",
        "      <td>  0.07762338</td>\n",
        "      <td>    0.1662923</td>\n",
        "      <td>    0.1082169</td>\n",
        "    </tr>\n",
        "    <tr>\n",
        "      <th>0 </th>\n",
        "      <td>   Tamb</td>\n",
        "      <td>   0.1123597</td>\n",
        "      <td>    0.2601295</td>\n",
        "      <td>    0.1635459</td>\n",
        "    </tr>\n",
        "    <tr>\n",
        "      <th>8 </th>\n",
        "      <td> ATX3.3</td>\n",
        "      <td>  0.00172546</td>\n",
        "      <td>     1.048487</td>\n",
        "      <td>    0.2293738</td>\n",
        "    </tr>\n",
        "    <tr>\n",
        "      <th>9 </th>\n",
        "      <td>  HDD12</td>\n",
        "      <td>    0.141825</td>\n",
        "      <td>    0.4974604</td>\n",
        "      <td>    0.2922377</td>\n",
        "    </tr>\n",
        "    <tr>\n",
        "      <th>2 </th>\n",
        "      <td>   MEM1</td>\n",
        "      <td> 0.003724665</td>\n",
        "      <td>      1.08076</td>\n",
        "      <td>    0.8767672</td>\n",
        "    </tr>\n",
        "    <tr>\n",
        "      <th>4 </th>\n",
        "      <td>   MEM2</td>\n",
        "      <td> 0.003474275</td>\n",
        "      <td>     1.103083</td>\n",
        "      <td>    0.8829148</td>\n",
        "    </tr>\n",
        "    <tr>\n",
        "      <th>6 </th>\n",
        "      <td>   ATX5</td>\n",
        "      <td> 0.007068528</td>\n",
        "      <td>     1.757085</td>\n",
        "      <td>     1.051663</td>\n",
        "    </tr>\n",
        "    <tr>\n",
        "      <th>5 </th>\n",
        "      <td>  ATX12</td>\n",
        "      <td> 0.007219465</td>\n",
        "      <td>     7.358405</td>\n",
        "      <td>     1.803254</td>\n",
        "    </tr>\n",
        "    <tr>\n",
        "      <th>1 </th>\n",
        "      <td>   CPU1</td>\n",
        "      <td> 0.009168581</td>\n",
        "      <td>     3.534699</td>\n",
        "      <td>     2.287651</td>\n",
        "    </tr>\n",
        "    <tr>\n",
        "      <th>3 </th>\n",
        "      <td>   CPU2</td>\n",
        "      <td>  0.01060214</td>\n",
        "      <td>     3.922518</td>\n",
        "      <td>     3.055199</td>\n",
        "    </tr>\n",
        "  </tbody>\n",
        "</table>\n",
        "<p>19 rows \u00d7 4 columns</p>\n",
        "</div>"
       ],
       "metadata": {},
       "output_type": "pyout",
       "prompt_number": 65,
       "text": [
        "    sensor   min_stdDev    max_stdDev    avg_stdDev\n",
        "12    Tinb            0  8.684964e-11  4.249924e-11\n",
        "11    Tina            0  9.811885e-11  4.690431e-11\n",
        "14   Tcpu2   0.04018142     0.1429804    0.06743661\n",
        "15    Thca    0.0485091     0.1433203     0.0676511\n",
        "16   Tmem1   0.03785951     0.2969936     0.0700458\n",
        "13   Tcpu1   0.03651546     0.3623649     0.0731439\n",
        "18    Tout   0.03781853     0.1835042    0.07984292\n",
        "7   ATX5sb  0.001450201     0.1462766    0.08444121\n",
        "17   Tmem2   0.04126999     0.4282935    0.09386212\n",
        "10    HDD5   0.07762338     0.1662923     0.1082169\n",
        "0     Tamb    0.1123597     0.2601295     0.1635459\n",
        "8   ATX3.3   0.00172546      1.048487     0.2293738\n",
        "9    HDD12     0.141825     0.4974604     0.2922377\n",
        "2     MEM1  0.003724665       1.08076     0.8767672\n",
        "4     MEM2  0.003474275      1.103083     0.8829148\n",
        "6     ATX5  0.007068528      1.757085      1.051663\n",
        "5    ATX12  0.007219465      7.358405      1.803254\n",
        "1     CPU1  0.009168581      3.534699      2.287651\n",
        "3     CPU2   0.01060214      3.922518      3.055199\n",
        "\n",
        "[19 rows x 4 columns]"
       ]
      }
     ],
     "prompt_number": 65
    },
    {
     "cell_type": "code",
     "collapsed": false,
     "input": [
      "#sensors missing readings from the dataset\n",
      "downSensors = []\n",
      "for nodeFile in perNodefiles: \n",
      "    df = pd.read_table(nodeFile, delim_whitespace=True)\n",
      "    for givenSensor in sensors:                   \n",
      "            view = df.loc[df['sensor'].isin([givenSensor])] #[0:160000]\n",
      "            df_select = pd.DataFrame(view.values.copy(), view.index.copy(), view.columns.copy())        \n",
      "            #print number of data points in timeseries\n",
      "            if (len(df_select['node']) == 0):\n",
      "                print nodeFile, givenSensor\n",
      "                downSensors.append((nodeFile, givenSensor))\n",
      "                continue"
     ],
     "language": "python",
     "metadata": {},
     "outputs": [
      {
       "output_type": "stream",
       "stream": "stdout",
       "text": [
        "pi33-seapearl.txt MEM1\n",
        "pi33-seapearl.txt"
       ]
      },
      {
       "output_type": "stream",
       "stream": "stdout",
       "text": [
        " CPU2\n",
        "pi33-seapearl.txt"
       ]
      },
      {
       "output_type": "stream",
       "stream": "stdout",
       "text": [
        " MEM2\n",
        "pi33-seapearl.txt"
       ]
      },
      {
       "output_type": "stream",
       "stream": "stdout",
       "text": [
        " Tcpu2\n",
        "pi35-seapearl.txt"
       ]
      },
      {
       "output_type": "stream",
       "stream": "stdout",
       "text": [
        " MEM1\n",
        "pi35-seapearl.txt"
       ]
      },
      {
       "output_type": "stream",
       "stream": "stdout",
       "text": [
        " CPU2\n",
        "pi35-seapearl.txt"
       ]
      },
      {
       "output_type": "stream",
       "stream": "stdout",
       "text": [
        " MEM2\n",
        "pi35-seapearl.txt"
       ]
      },
      {
       "output_type": "stream",
       "stream": "stdout",
       "text": [
        " Tcpu2\n",
        "pi36-seapearl.txt"
       ]
      },
      {
       "output_type": "stream",
       "stream": "stdout",
       "text": [
        " MEM1\n",
        "pi36-seapearl.txt"
       ]
      },
      {
       "output_type": "stream",
       "stream": "stdout",
       "text": [
        " CPU2\n",
        "pi36-seapearl.txt"
       ]
      },
      {
       "output_type": "stream",
       "stream": "stdout",
       "text": [
        " MEM2\n",
        "pi36-seapearl.txt"
       ]
      },
      {
       "output_type": "stream",
       "stream": "stdout",
       "text": [
        " Tcpu2\n",
        "pi37-seapearl.txt"
       ]
      },
      {
       "output_type": "stream",
       "stream": "stdout",
       "text": [
        " MEM1\n",
        "pi37-seapearl.txt"
       ]
      },
      {
       "output_type": "stream",
       "stream": "stdout",
       "text": [
        " CPU2\n",
        "pi37-seapearl.txt"
       ]
      },
      {
       "output_type": "stream",
       "stream": "stdout",
       "text": [
        " MEM2\n",
        "pi37-seapearl.txt"
       ]
      },
      {
       "output_type": "stream",
       "stream": "stdout",
       "text": [
        " Tcpu2\n",
        "pi38-seapearl.txt"
       ]
      },
      {
       "output_type": "stream",
       "stream": "stdout",
       "text": [
        " MEM1\n",
        "pi38-seapearl.txt"
       ]
      },
      {
       "output_type": "stream",
       "stream": "stdout",
       "text": [
        " CPU2\n",
        "pi38-seapearl.txt"
       ]
      },
      {
       "output_type": "stream",
       "stream": "stdout",
       "text": [
        " MEM2\n",
        "pi38-seapearl.txt"
       ]
      },
      {
       "output_type": "stream",
       "stream": "stdout",
       "text": [
        " Tcpu2\n",
        "pi39-seapearl.txt"
       ]
      },
      {
       "output_type": "stream",
       "stream": "stdout",
       "text": [
        " MEM1\n",
        "pi39-seapearl.txt"
       ]
      },
      {
       "output_type": "stream",
       "stream": "stdout",
       "text": [
        " CPU2\n",
        "pi39-seapearl.txt"
       ]
      },
      {
       "output_type": "stream",
       "stream": "stdout",
       "text": [
        " MEM2\n",
        "pi39-seapearl.txt"
       ]
      },
      {
       "output_type": "stream",
       "stream": "stdout",
       "text": [
        " Tcpu2\n",
        "pi40-seapearl.txt"
       ]
      },
      {
       "output_type": "stream",
       "stream": "stdout",
       "text": [
        " MEM1\n",
        "pi40-seapearl.txt"
       ]
      },
      {
       "output_type": "stream",
       "stream": "stdout",
       "text": [
        " CPU2\n",
        "pi40-seapearl.txt"
       ]
      },
      {
       "output_type": "stream",
       "stream": "stdout",
       "text": [
        " MEM2\n",
        "pi40-seapearl.txt"
       ]
      },
      {
       "output_type": "stream",
       "stream": "stdout",
       "text": [
        " Tcpu2\n",
        "pi41-seapearl.txt"
       ]
      },
      {
       "output_type": "stream",
       "stream": "stdout",
       "text": [
        " MEM1\n",
        "pi41-seapearl.txt"
       ]
      },
      {
       "output_type": "stream",
       "stream": "stdout",
       "text": [
        " CPU2\n",
        "pi41-seapearl.txt"
       ]
      },
      {
       "output_type": "stream",
       "stream": "stdout",
       "text": [
        " MEM2\n",
        "pi41-seapearl.txt"
       ]
      },
      {
       "output_type": "stream",
       "stream": "stdout",
       "text": [
        " Tcpu2\n",
        "pi42-seapearl.txt"
       ]
      },
      {
       "output_type": "stream",
       "stream": "stdout",
       "text": [
        " MEM1\n",
        "pi42-seapearl.txt"
       ]
      },
      {
       "output_type": "stream",
       "stream": "stdout",
       "text": [
        " CPU2\n",
        "pi42-seapearl.txt"
       ]
      },
      {
       "output_type": "stream",
       "stream": "stdout",
       "text": [
        " MEM2\n",
        "pi42-seapearl.txt"
       ]
      },
      {
       "output_type": "stream",
       "stream": "stdout",
       "text": [
        " Tcpu2\n",
        "pi43-seapearl.txt"
       ]
      },
      {
       "output_type": "stream",
       "stream": "stdout",
       "text": [
        " MEM1\n",
        "pi43-seapearl.txt"
       ]
      },
      {
       "output_type": "stream",
       "stream": "stdout",
       "text": [
        " CPU2\n",
        "pi43-seapearl.txt"
       ]
      },
      {
       "output_type": "stream",
       "stream": "stdout",
       "text": [
        " MEM2\n",
        "pi43-seapearl.txt"
       ]
      },
      {
       "output_type": "stream",
       "stream": "stdout",
       "text": [
        " Tcpu2\n",
        "pi45-seapearl.txt"
       ]
      },
      {
       "output_type": "stream",
       "stream": "stdout",
       "text": [
        " MEM1\n",
        "pi45-seapearl.txt"
       ]
      },
      {
       "output_type": "stream",
       "stream": "stdout",
       "text": [
        " CPU2\n",
        "pi45-seapearl.txt"
       ]
      },
      {
       "output_type": "stream",
       "stream": "stdout",
       "text": [
        " MEM2\n",
        "pi45-seapearl.txt"
       ]
      },
      {
       "output_type": "stream",
       "stream": "stdout",
       "text": [
        " Tcpu2\n",
        "pi47-seapearl.txt"
       ]
      },
      {
       "output_type": "stream",
       "stream": "stdout",
       "text": [
        " MEM1\n",
        "pi47-seapearl.txt"
       ]
      },
      {
       "output_type": "stream",
       "stream": "stdout",
       "text": [
        " CPU2\n",
        "pi47-seapearl.txt"
       ]
      },
      {
       "output_type": "stream",
       "stream": "stdout",
       "text": [
        " MEM2\n",
        "pi47-seapearl.txt"
       ]
      },
      {
       "output_type": "stream",
       "stream": "stdout",
       "text": [
        " Tcpu2\n",
        "pi48-seapearl.txt"
       ]
      },
      {
       "output_type": "stream",
       "stream": "stdout",
       "text": [
        " MEM1\n",
        "pi48-seapearl.txt"
       ]
      },
      {
       "output_type": "stream",
       "stream": "stdout",
       "text": [
        " CPU2\n",
        "pi48-seapearl.txt"
       ]
      },
      {
       "output_type": "stream",
       "stream": "stdout",
       "text": [
        " MEM2\n",
        "pi48-seapearl.txt"
       ]
      },
      {
       "output_type": "stream",
       "stream": "stdout",
       "text": [
        " Tcpu2\n"
       ]
      }
     ],
     "prompt_number": 6
    },
    {
     "cell_type": "code",
     "collapsed": false,
     "input": [],
     "language": "python",
     "metadata": {},
     "outputs": []
    }
   ],
   "metadata": {}
  }
 ]
}