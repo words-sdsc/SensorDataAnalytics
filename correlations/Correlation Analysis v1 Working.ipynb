{
 "metadata": {
  "name": ""
 },
 "nbformat": 3,
 "nbformat_minor": 0,
 "worksheets": [
  {
   "cells": [
    {
     "cell_type": "code",
     "collapsed": false,
     "input": [
      "import numpy as np\n",
      "import pandas as pd\n",
      "from os import listdir\n",
      "from os.path import isfile, join\n",
      "from sklearn.ensemble import RandomForestClassifier"
     ],
     "language": "python",
     "metadata": {},
     "outputs": [],
     "prompt_number": 55
    },
    {
     "cell_type": "code",
     "collapsed": true,
     "input": [
      "#read all seapearl files\n",
      "perNodefiles = [f for f in listdir('.') if (isfile(join('.', f)) and 'pearl' in f)]\n",
      "perNodefiles.sort()\n",
      "for node in perNodefiles:\n",
      "    print 'node-' + node[2:4]"
     ],
     "language": "python",
     "metadata": {},
     "outputs": [
      {
       "output_type": "stream",
       "stream": "stdout",
       "text": [
        "node-02\n",
        "node-03\n",
        "node-06\n",
        "node-08\n",
        "node-12\n",
        "node-13\n",
        "node-14\n",
        "node-15\n",
        "node-16\n",
        "node-18\n",
        "node-19\n",
        "node-20\n",
        "node-21\n",
        "node-22\n",
        "node-24\n",
        "node-25\n",
        "node-26\n",
        "node-27\n",
        "node-28\n",
        "node-29\n",
        "node-30\n",
        "node-31\n",
        "node-32\n",
        "node-33\n",
        "node-35\n",
        "node-36\n",
        "node-37\n",
        "node-38\n",
        "node-39\n",
        "node-40\n",
        "node-41\n",
        "node-42\n",
        "node-43\n",
        "node-45\n",
        "node-47\n",
        "node-48\n"
       ]
      }
     ],
     "prompt_number": 59
    },
    {
     "cell_type": "code",
     "collapsed": false,
     "input": [
      "sensors =[\"Tamb\", \"CPU1\", \"MEM1\", \"CPU2\", \"MEM2\", \"ATX12\", \"ATX5\", \"ATX5sb\", \"ATX3.3\", \"HDD12\", \"HDD5\", \"Tina\", \"Tinb\",\n",
      "          \"Tcpu1\", \"Tcpu2\", \"Thca\", \"Tmem1\", \"Tmem2\", \"Tout\"]"
     ],
     "language": "python",
     "metadata": {},
     "outputs": [],
     "prompt_number": 60
    },
    {
     "cell_type": "code",
     "collapsed": true,
     "input": [
      "outputFileName = 'eachRowTimeSeries_CPU1_Power.txt'\n",
      "\n",
      "##############################\n",
      "#for each of the files, extract sensor data (=Tamb)\n",
      "\n",
      "timeseriesdict = dict()\n",
      "for nodeFile in perNodefiles:\n",
      "        print nodeFile\n",
      "        #read the file for this node\n",
      "        df = pd.read_table(nodeFile, delim_whitespace=True)\n",
      "    \n",
      "        #get COLUMN (SENSOR) OF INTEREST, here SENSOR = Tamb\n",
      "        df_select = df.loc[df['sensor'].isin([sensors[0]])]\n",
      "    \n",
      "        #print number of data points in timeseries\n",
      "        print df_select.shape\n",
      "        KEY = (df_select['node'][0], df_select['sensor'][0]) #tuple\n",
      "        \n",
      "        #delete extra columns\n",
      "        #del df_select['time'] \n",
      "        del df_select['node'] \n",
      "        del df_select['sensor']\n",
      "         \n",
      "        #transpose &\n",
      "        #append to CSV\n",
      "        VALUE = df_select[1:160000:10]\n",
      "        print list(VALUE)\n",
      "        #value.to_csv(outputFileName, header=False, index=False, mode='a')\n",
      "        timeseriesdict[KEY] = VALUE\n",
      "        del df\n",
      "        del df_select\n",
      "        print '---------------------------'\n",
      " \n",
      "##############################\n",
      "#the order of files printed gives label for each row from start of file"
     ],
     "language": "python",
     "metadata": {},
     "outputs": [
      {
       "output_type": "stream",
       "stream": "stdout",
       "text": [
        "pi02-seapearl.txt\n",
        "(180000, 4)"
       ]
      },
      {
       "output_type": "stream",
       "stream": "stdout",
       "text": [
        "\n",
        "['time', 'value']\n",
        "---------------------------\n",
        "pi03-seapearl.txt\n",
        "(180000, 4)"
       ]
      },
      {
       "output_type": "stream",
       "stream": "stdout",
       "text": [
        "\n",
        "['time', 'value']\n",
        "---------------------------\n",
        "pi06-seapearl.txt\n",
        "(180000, 4)"
       ]
      },
      {
       "output_type": "stream",
       "stream": "stdout",
       "text": [
        "\n",
        "['time', 'value']"
       ]
      },
      {
       "output_type": "stream",
       "stream": "stdout",
       "text": [
        "\n",
        "---------------------------\n",
        "pi08-seapearl.txt\n",
        "(180000, 4)"
       ]
      },
      {
       "output_type": "stream",
       "stream": "stdout",
       "text": [
        "\n",
        "['time', 'value']\n",
        "---------------------------\n",
        "pi12-seapearl.txt\n",
        "(180000, 4)"
       ]
      },
      {
       "output_type": "stream",
       "stream": "stdout",
       "text": [
        "\n",
        "['time', 'value']\n",
        "---------------------------\n",
        "pi13-seapearl.txt\n",
        "(180000, 4)"
       ]
      },
      {
       "output_type": "stream",
       "stream": "stdout",
       "text": [
        "\n",
        "['time', 'value']\n",
        "---------------------------\n",
        "pi14-seapearl.txt\n",
        "(178190, 4)"
       ]
      },
      {
       "output_type": "stream",
       "stream": "stdout",
       "text": [
        "\n",
        "['time', 'value']\n",
        "---------------------------\n",
        "pi15-seapearl.txt\n",
        "(180000, 4)"
       ]
      },
      {
       "output_type": "stream",
       "stream": "stdout",
       "text": [
        "\n",
        "['time', 'value']\n",
        "---------------------------\n",
        "pi16-seapearl.txt\n",
        "(180000, 4)"
       ]
      },
      {
       "output_type": "stream",
       "stream": "stdout",
       "text": [
        "\n",
        "['time', 'value']\n",
        "---------------------------\n",
        "pi18-seapearl.txt\n",
        "(180000, 4)"
       ]
      },
      {
       "output_type": "stream",
       "stream": "stdout",
       "text": [
        "\n",
        "['time', 'value']\n",
        "---------------------------\n",
        "pi19-seapearl.txt\n",
        "(180000, 4)"
       ]
      },
      {
       "output_type": "stream",
       "stream": "stdout",
       "text": [
        "\n",
        "['time', 'value']\n",
        "---------------------------\n",
        "pi20-seapearl.txt\n",
        "(180000, 4)"
       ]
      },
      {
       "output_type": "stream",
       "stream": "stdout",
       "text": [
        "\n",
        "['time', 'value']"
       ]
      },
      {
       "output_type": "stream",
       "stream": "stdout",
       "text": [
        "\n",
        "---------------------------\n",
        "pi21-seapearl.txt\n",
        "(180000, 4)"
       ]
      },
      {
       "output_type": "stream",
       "stream": "stdout",
       "text": [
        "\n",
        "['time', 'value']\n",
        "---------------------------\n",
        "pi22-seapearl.txt\n",
        "(180000, 4)"
       ]
      },
      {
       "output_type": "stream",
       "stream": "stdout",
       "text": [
        "\n",
        "['time', 'value']\n",
        "---------------------------\n",
        "pi24-seapearl.txt\n",
        "(180000, 4)"
       ]
      },
      {
       "output_type": "stream",
       "stream": "stdout",
       "text": [
        "\n",
        "['time', 'value']\n",
        "---------------------------\n",
        "pi25-seapearl.txt\n",
        "(180000, 4)"
       ]
      },
      {
       "output_type": "stream",
       "stream": "stdout",
       "text": [
        "\n",
        "['time', 'value']\n",
        "---------------------------\n",
        "pi26-seapearl.txt\n",
        "(179980, 4)"
       ]
      },
      {
       "output_type": "stream",
       "stream": "stdout",
       "text": [
        "\n",
        "['time', 'value']\n",
        "---------------------------\n",
        "pi27-seapearl.txt\n",
        "(180000, 4)"
       ]
      },
      {
       "output_type": "stream",
       "stream": "stdout",
       "text": [
        "\n",
        "['time', 'value']\n",
        "---------------------------\n",
        "pi28-seapearl.txt\n",
        "(180000, 4)"
       ]
      },
      {
       "output_type": "stream",
       "stream": "stdout",
       "text": [
        "\n",
        "['time', 'value']\n",
        "---------------------------\n",
        "pi29-seapearl.txt\n",
        "(180000, 4)"
       ]
      },
      {
       "output_type": "stream",
       "stream": "stdout",
       "text": [
        "\n",
        "['time', 'value']\n",
        "---------------------------\n",
        "pi30-seapearl.txt\n",
        "(180000, 4)"
       ]
      },
      {
       "output_type": "stream",
       "stream": "stdout",
       "text": [
        "\n",
        "['time', 'value']"
       ]
      },
      {
       "output_type": "stream",
       "stream": "stdout",
       "text": [
        "\n",
        "---------------------------\n",
        "pi31-seapearl.txt\n",
        "(180000, 4)"
       ]
      },
      {
       "output_type": "stream",
       "stream": "stdout",
       "text": [
        "\n",
        "['time', 'value']\n",
        "---------------------------\n",
        "pi32-seapearl.txt\n",
        "(180000, 4)"
       ]
      },
      {
       "output_type": "stream",
       "stream": "stdout",
       "text": [
        "\n",
        "['time', 'value']\n",
        "---------------------------\n",
        "pi33-seapearl.txt\n",
        "(180000, 4)"
       ]
      },
      {
       "output_type": "stream",
       "stream": "stdout",
       "text": [
        "\n",
        "['time', 'value']\n",
        "---------------------------\n",
        "pi35-seapearl.txt\n",
        "(169820, 4)"
       ]
      },
      {
       "output_type": "stream",
       "stream": "stdout",
       "text": [
        "\n",
        "['time', 'value']\n",
        "---------------------------\n",
        "pi36-seapearl.txt\n",
        "(169820, 4)"
       ]
      },
      {
       "output_type": "stream",
       "stream": "stdout",
       "text": [
        "\n",
        "['time', 'value']\n",
        "---------------------------\n",
        "pi37-seapearl.txt\n",
        "(169910, 4)"
       ]
      },
      {
       "output_type": "stream",
       "stream": "stdout",
       "text": [
        "\n",
        "['time', 'value']\n",
        "---------------------------\n",
        "pi38-seapearl.txt\n",
        "(169910, 4)"
       ]
      },
      {
       "output_type": "stream",
       "stream": "stdout",
       "text": [
        "\n",
        "['time', 'value']\n",
        "---------------------------\n",
        "pi39-seapearl.txt\n",
        "(169920, 4)"
       ]
      },
      {
       "output_type": "stream",
       "stream": "stdout",
       "text": [
        "\n",
        "['time', 'value']\n",
        "---------------------------\n",
        "pi40-seapearl.txt\n",
        "(169850, 4)"
       ]
      },
      {
       "output_type": "stream",
       "stream": "stdout",
       "text": [
        "\n",
        "['time', 'value']\n",
        "---------------------------\n",
        "pi41-seapearl.txt\n",
        "(169780, 4)"
       ]
      },
      {
       "output_type": "stream",
       "stream": "stdout",
       "text": [
        "\n",
        "['time', 'value']\n",
        "---------------------------\n",
        "pi42-seapearl.txt\n",
        "(169910, 4)"
       ]
      },
      {
       "output_type": "stream",
       "stream": "stdout",
       "text": [
        "\n",
        "['time', 'value']\n",
        "---------------------------\n",
        "pi43-seapearl.txt\n",
        "(169530, 4)"
       ]
      },
      {
       "output_type": "stream",
       "stream": "stdout",
       "text": [
        "\n",
        "['time', 'value']\n",
        "---------------------------\n",
        "pi45-seapearl.txt\n",
        "(169717, 4)"
       ]
      },
      {
       "output_type": "stream",
       "stream": "stdout",
       "text": [
        "\n",
        "['time', 'value']\n",
        "---------------------------\n",
        "pi47-seapearl.txt\n",
        "(169510, 4)"
       ]
      },
      {
       "output_type": "stream",
       "stream": "stdout",
       "text": [
        "\n",
        "['time', 'value']\n",
        "---------------------------\n",
        "pi48-seapearl.txt\n",
        "(169550, 4)"
       ]
      },
      {
       "output_type": "stream",
       "stream": "stdout",
       "text": [
        "\n",
        "['time', 'value']\n",
        "---------------------------\n"
       ]
      }
     ],
     "prompt_number": 79
    },
    {
     "cell_type": "code",
     "collapsed": false,
     "input": [
      "w[0:5]"
     ],
     "language": "python",
     "metadata": {},
     "outputs": [
      {
       "html": [
        "<div style=\"max-height:1000px;max-width:1500px;overflow:auto;\">\n",
        "<table border=\"1\" class=\"dataframe\">\n",
        "  <thead>\n",
        "    <tr style=\"text-align: right;\">\n",
        "      <th></th>\n",
        "      <th>time</th>\n",
        "      <th>value</th>\n",
        "    </tr>\n",
        "  </thead>\n",
        "  <tbody>\n",
        "    <tr>\n",
        "      <th>15  </th>\n",
        "      <td> 2016-02-14T22:21:46.514436096Z</td>\n",
        "      <td> 23.11</td>\n",
        "    </tr>\n",
        "    <tr>\n",
        "      <th>1515</th>\n",
        "      <td> 2016-02-14T22:23:26.550676992Z</td>\n",
        "      <td> 22.70</td>\n",
        "    </tr>\n",
        "    <tr>\n",
        "      <th>3015</th>\n",
        "      <td> 2016-02-14T22:25:06.585750016Z</td>\n",
        "      <td> 22.70</td>\n",
        "    </tr>\n",
        "    <tr>\n",
        "      <th>4515</th>\n",
        "      <td> 2016-02-14T22:26:46.623107072Z</td>\n",
        "      <td> 22.67</td>\n",
        "    </tr>\n",
        "    <tr>\n",
        "      <th>6015</th>\n",
        "      <td> 2016-02-14T22:28:26.659992064Z</td>\n",
        "      <td> 22.70</td>\n",
        "    </tr>\n",
        "  </tbody>\n",
        "</table>\n",
        "<p>5 rows \u00d7 2 columns</p>\n",
        "</div>"
       ],
       "metadata": {},
       "output_type": "pyout",
       "prompt_number": 77,
       "text": [
        "                                time  value\n",
        "15    2016-02-14T22:21:46.514436096Z  23.11\n",
        "1515  2016-02-14T22:23:26.550676992Z  22.70\n",
        "3015  2016-02-14T22:25:06.585750016Z  22.70\n",
        "4515  2016-02-14T22:26:46.623107072Z  22.67\n",
        "6015  2016-02-14T22:28:26.659992064Z  22.70\n",
        "\n",
        "[5 rows x 2 columns]"
       ]
      }
     ],
     "prompt_number": 77
    },
    {
     "cell_type": "code",
     "collapsed": true,
     "input": [
      "w['time'].tolist()[0:15]"
     ],
     "language": "python",
     "metadata": {},
     "outputs": [
      {
       "metadata": {},
       "output_type": "pyout",
       "prompt_number": 97,
       "text": [
        "['2016-02-14T22:21:46.514436096Z',\n",
        " '2016-02-14T22:21:56.517901056Z',\n",
        " '2016-02-14T22:22:06.521490176Z',\n",
        " '2016-02-14T22:22:16.524924928Z',\n",
        " '2016-02-14T22:22:26.528572928Z',\n",
        " '2016-02-14T22:22:36.532162048Z',\n",
        " '2016-02-14T22:22:46.535977984Z',\n",
        " '2016-02-14T22:22:56.539815936Z',\n",
        " '2016-02-14T22:23:06.54350592Z',\n",
        " '2016-02-14T22:23:16.547087872Z',\n",
        " '2016-02-14T22:23:26.550676992Z',\n",
        " '2016-02-14T22:23:36.554328832Z',\n",
        " '2016-02-14T22:23:46.558224896Z',\n",
        " '2016-02-14T22:23:56.561517056Z',\n",
        " '2016-02-14T22:24:06.565457152Z']"
       ]
      }
     ],
     "prompt_number": 97
    },
    {
     "cell_type": "code",
     "collapsed": false,
     "input": [
      "#get a timeseries from dict, convert to pandas Series so you can align and join\n",
      "tsK  = timeseriesdict[('pi02', 'Tamb')]\n",
      "tsK_timeformat = pd.to_datetime(tsK['time'], infer_datetime_format=True)\n",
      "tsK_Series = pd.Series(tsK['value'].tolist(), index = tsK_timeformat)"
     ],
     "language": "python",
     "metadata": {},
     "outputs": [],
     "prompt_number": 268
    },
    {
     "cell_type": "code",
     "collapsed": false,
     "input": [
      "j1=tsK_Series.resample('80S', closed='left'); \n",
      "j1[0:1], j1[-2:-1]"
     ],
     "language": "python",
     "metadata": {},
     "outputs": [
      {
       "metadata": {},
       "output_type": "pyout",
       "prompt_number": 269,
       "text": [
        "(time\n",
        "2016-02-12 20:20:00    24.528\n",
        "Freq: 80S, dtype: float64,\n",
        " time\n",
        "2016-02-14 16:46:40    23.935\n",
        "Freq: 80S, dtype: float64)"
       ]
      }
     ],
     "prompt_number": 269
    },
    {
     "cell_type": "code",
     "collapsed": true,
     "input": [
      "#get a timeseries from dict, convert to pandas Series so you can align and join\n",
      "tsQ  = timeseriesdict[('pi03', 'Tamb')]\n",
      "tsQ_timeformat = pd.to_datetime(tsQ['time'], infer_datetime_format=True)\n",
      "tsQ_Series = pd.Series(tsQ['value'].tolist(), index = tsQ_timeformat)"
     ],
     "language": "python",
     "metadata": {},
     "outputs": [],
     "prompt_number": 270
    },
    {
     "cell_type": "code",
     "collapsed": false,
     "input": [
      "j2=tsQ_Series.resample('80S', closed='left'); j2[0:5]\n",
      "j2[0:1], j2[-2:-1]"
     ],
     "language": "python",
     "metadata": {},
     "outputs": [
      {
       "metadata": {},
       "output_type": "pyout",
       "prompt_number": 271,
       "text": [
        "(time\n",
        "2016-02-12 20:20:00    24.004\n",
        "Freq: 80S, dtype: float64,\n",
        " time\n",
        "2016-02-14 16:46:40    23.64\n",
        "Freq: 80S, dtype: float64)"
       ]
      }
     ],
     "prompt_number": 271
    },
    {
     "cell_type": "code",
     "collapsed": false,
     "input": [
      "J = j1.align(j2, join='inner')\n",
      "len(J[0]) # 0 if inner join results in empty set\n",
      "len(J[1]) # 0 if inner join results in empty set"
     ],
     "language": "python",
     "metadata": {},
     "outputs": [
      {
       "metadata": {},
       "output_type": "pyout",
       "prompt_number": 272,
       "text": [
        "2002"
       ]
      }
     ],
     "prompt_number": 272
    },
    {
     "cell_type": "code",
     "collapsed": false,
     "input": [
      "print len(J[0]), len(j2), len(j1)"
     ],
     "language": "python",
     "metadata": {},
     "outputs": [
      {
       "output_type": "stream",
       "stream": "stdout",
       "text": [
        "2002 2002 2002\n"
       ]
      }
     ],
     "prompt_number": 273
    },
    {
     "cell_type": "code",
     "collapsed": false,
     "input": [
      "J[0].values.tolist()[0:5]"
     ],
     "language": "python",
     "metadata": {},
     "outputs": [
      {
       "metadata": {},
       "output_type": "pyout",
       "prompt_number": 274,
       "text": [
        "[24.528,\n",
        " 24.506249999999998,\n",
        " 24.539999999999996,\n",
        " 24.537499999999998,\n",
        " 24.523749999999996]"
       ]
      }
     ],
     "prompt_number": 274
    },
    {
     "cell_type": "code",
     "collapsed": false,
     "input": [
      "from scipy.stats.stats import pearsonr"
     ],
     "language": "python",
     "metadata": {},
     "outputs": [],
     "prompt_number": 275
    },
    {
     "cell_type": "code",
     "collapsed": true,
     "input": [
      "J[1].values.tolist()[0:5]"
     ],
     "language": "python",
     "metadata": {},
     "outputs": [
      {
       "metadata": {},
       "output_type": "pyout",
       "prompt_number": 276,
       "text": [
        "[24.004, 24.112499999999997, 24.131249999999998, 24.15875, 24.116250000000004]"
       ]
      }
     ],
     "prompt_number": 276
    },
    {
     "cell_type": "code",
     "collapsed": false,
     "input": [
      "pcoeff = pearsonr([24.65, 24.49, 24.53, 24.43, 24.54], [24.06, 24.06, 23.84, 24.1, 23.96])"
     ],
     "language": "python",
     "metadata": {},
     "outputs": [],
     "prompt_number": 277
    },
    {
     "cell_type": "code",
     "collapsed": false,
     "input": [
      "pcoeff = pearsonr(J[0].values.tolist(), J[1].values.tolist())"
     ],
     "language": "python",
     "metadata": {},
     "outputs": [],
     "prompt_number": 278
    },
    {
     "cell_type": "code",
     "collapsed": false,
     "input": [
      "pcoeff"
     ],
     "language": "python",
     "metadata": {},
     "outputs": [
      {
       "metadata": {},
       "output_type": "pyout",
       "prompt_number": 279,
       "text": [
        "(0.92463697642903797, 0.0)"
       ]
      }
     ],
     "prompt_number": 279
    },
    {
     "cell_type": "code",
     "collapsed": true,
     "input": [
      "np.random.seed()\n",
      "df['is_train']=np.random.uniform(0,1,len(df)) <= .60\n",
      "train, test = df[df['is_train']==True], df[df['is_train']==False]\n",
      "del df['is_train']\n",
      "len(train)*1.0 / (len(test)+len(train))"
     ],
     "language": "python",
     "metadata": {},
     "outputs": [
      {
       "metadata": {},
       "output_type": "pyout",
       "prompt_number": 61,
       "text": [
        "0.5135135135135135"
       ]
      }
     ],
     "prompt_number": 61
    },
    {
     "cell_type": "code",
     "collapsed": false,
     "input": [
      "df.columns[0]"
     ],
     "language": "python",
     "metadata": {},
     "outputs": [
      {
       "metadata": {},
       "output_type": "pyout",
       "prompt_number": 62,
       "text": [
        "'classId'"
       ]
      }
     ],
     "prompt_number": 62
    },
    {
     "cell_type": "code",
     "collapsed": false,
     "input": [
      "features = df.columns[1:]\n",
      "target = df.columns[0]\n",
      "model.fit(train[features], train[target])"
     ],
     "language": "python",
     "metadata": {},
     "outputs": [
      {
       "metadata": {},
       "output_type": "pyout",
       "prompt_number": 56,
       "text": [
        "RandomForestClassifier(bootstrap=True, compute_importances=None,\n",
        "            criterion='gini', max_depth=None, max_features='auto',\n",
        "            min_density=None, min_samples_leaf=1, min_samples_split=2,\n",
        "            n_estimators=1000, n_jobs=-1, oob_score=False,\n",
        "            random_state=None, verbose=0)"
       ]
      }
     ],
     "prompt_number": 56
    },
    {
     "cell_type": "code",
     "collapsed": false,
     "input": [
      "testLabels"
     ],
     "language": "python",
     "metadata": {},
     "outputs": [
      {
       "metadata": {},
       "output_type": "pyout",
       "prompt_number": 57,
       "text": [
        "array([2, 3, 2, 3, 2, 3, 1, 1, 3, 2, 2, 1, 2, 2, 2, 1, 1, 3, 1])"
       ]
      }
     ],
     "prompt_number": 57
    },
    {
     "cell_type": "code",
     "collapsed": false,
     "input": [
      "preds = model.predict(test[features])\n",
      "testLabels = test[target].as_matrix()\n",
      "sum(preds == testLabels)*1.0 / len(preds)"
     ],
     "language": "python",
     "metadata": {},
     "outputs": [
      {
       "metadata": {},
       "output_type": "pyout",
       "prompt_number": 63,
       "text": [
        "0.33333333333333331"
       ]
      }
     ],
     "prompt_number": 63
    },
    {
     "cell_type": "code",
     "collapsed": false,
     "input": [
      "preds"
     ],
     "language": "python",
     "metadata": {},
     "outputs": [
      {
       "metadata": {},
       "output_type": "pyout",
       "prompt_number": 64,
       "text": [
        "array([2, 2, 1, 1, 2, 1, 3, 3, 1, 3, 3, 2, 1, 1, 3, 1, 3, 1])"
       ]
      }
     ],
     "prompt_number": 64
    },
    {
     "cell_type": "code",
     "collapsed": false,
     "input": [
      "import cPickle"
     ],
     "language": "python",
     "metadata": {},
     "outputs": [],
     "prompt_number": 51
    },
    {
     "cell_type": "code",
     "collapsed": false,
     "input": [
      "with open('Rack_RF_Clfr_Train54pc_Acc94pc.pk1','wb') as fid:\n",
      "    cPickle.dump(model,fid)"
     ],
     "language": "python",
     "metadata": {},
     "outputs": [],
     "prompt_number": 150
    },
    {
     "cell_type": "code",
     "collapsed": false,
     "input": [
      "with open('Rack_RF_Clfr_Train40pc_Acc90pc.pk1', 'rb') as fid:\n",
      "    model = cPickle.load(fid)"
     ],
     "language": "python",
     "metadata": {},
     "outputs": [],
     "prompt_number": 143
    },
    {
     "cell_type": "code",
     "collapsed": false,
     "input": [
      "def Randomizing():\n",
      "    dfcheck = pd.DataFrame({\"D1\":range(5), \"D2\":range(5)})\n",
      "    print(df)\n",
      "    dfcheck2 = df.reindex(np.random.permutation(df.index))\n",
      "    print(dfcheck2)\n",
      "\n",
      "\n",
      "Randomizing()"
     ],
     "language": "python",
     "metadata": {},
     "outputs": []
    },
    {
     "cell_type": "code",
     "collapsed": false,
     "input": [
      "df.loc[0,df.columns[1:]].as_matrix()"
     ],
     "language": "python",
     "metadata": {},
     "outputs": [
      {
       "metadata": {},
       "output_type": "pyout",
       "prompt_number": 73,
       "text": [
        "array([  9.46815980e-01,  -9.31259631e-01,  -6.66730984e+00, ...,\n",
        "         8.15470895e-01,  -3.17000000e-01,   3.33972375e+02])"
       ]
      }
     ],
     "prompt_number": 73
    },
    {
     "cell_type": "code",
     "collapsed": false,
     "input": [
      "from scipy.stats.stats import pearsonr"
     ],
     "language": "python",
     "metadata": {},
     "outputs": [],
     "prompt_number": 74
    },
    {
     "cell_type": "code",
     "collapsed": false,
     "input": [
      "#pearson correlation between time-series\n",
      "for i in range(35):\n",
      "    for j in range(35):\n",
      "        x=(pearsonr(df.loc[i,df.columns[1:]].as_matrix(), df.loc[j,df.columns[1:]].as_matrix()))\n",
      "        if(x[0]>0.5) or (x[0]<-0.5):\n",
      "            print i,j,x[0]"
     ],
     "language": "python",
     "metadata": {},
     "outputs": [
      {
       "output_type": "stream",
       "stream": "stdout",
       "text": [
        "0 0 1.0\n",
        "1 1 1.0\n",
        "2"
       ]
      },
      {
       "output_type": "stream",
       "stream": "stdout",
       "text": [
        " 2 1.0\n",
        "3 3 1.0\n",
        "4"
       ]
      },
      {
       "output_type": "stream",
       "stream": "stdout",
       "text": [
        " 4 1.0\n",
        "5 5 1.0\n",
        "6"
       ]
      },
      {
       "output_type": "stream",
       "stream": "stdout",
       "text": [
        " 6 1.0\n",
        "7 7 1.0\n",
        "8"
       ]
      },
      {
       "output_type": "stream",
       "stream": "stdout",
       "text": [
        " 8 1.0\n",
        "9 9 1.0\n",
        "10"
       ]
      },
      {
       "output_type": "stream",
       "stream": "stdout",
       "text": [
        " 10 1.0\n",
        "11 11 1.0\n",
        "12"
       ]
      },
      {
       "output_type": "stream",
       "stream": "stdout",
       "text": [
        " 12 1.0\n",
        "13 13 1.0\n",
        "14"
       ]
      },
      {
       "output_type": "stream",
       "stream": "stdout",
       "text": [
        " 14 1.0\n",
        "15 15 1.0\n",
        "16"
       ]
      },
      {
       "output_type": "stream",
       "stream": "stdout",
       "text": [
        " 16 1.0\n",
        "17 17 1.0\n",
        "18"
       ]
      },
      {
       "output_type": "stream",
       "stream": "stdout",
       "text": [
        " 18 1.0\n",
        "19 19 1.0\n",
        "20"
       ]
      },
      {
       "output_type": "stream",
       "stream": "stdout",
       "text": [
        " 20 1.0\n",
        "21 21 1.0\n",
        "22"
       ]
      },
      {
       "output_type": "stream",
       "stream": "stdout",
       "text": [
        " 22 1.0\n",
        "23 23 1.0\n",
        "24"
       ]
      },
      {
       "output_type": "stream",
       "stream": "stdout",
       "text": [
        " 24 1.0\n",
        "25 25 1.0\n",
        "26"
       ]
      },
      {
       "output_type": "stream",
       "stream": "stdout",
       "text": [
        " 26 1.0\n",
        "27 27 1.0\n",
        "28"
       ]
      },
      {
       "output_type": "stream",
       "stream": "stdout",
       "text": [
        " 28 1.0\n",
        "29 29 1.0\n",
        "30"
       ]
      },
      {
       "output_type": "stream",
       "stream": "stdout",
       "text": [
        " 30 1.0\n",
        "31 31 1.0\n",
        "32"
       ]
      },
      {
       "output_type": "stream",
       "stream": "stdout",
       "text": [
        " 32 1.0\n",
        "33 33 1.0\n",
        "34"
       ]
      },
      {
       "output_type": "stream",
       "stream": "stdout",
       "text": [
        " 34 1.0\n"
       ]
      }
     ],
     "prompt_number": 97
    },
    {
     "cell_type": "code",
     "collapsed": false,
     "input": [],
     "language": "python",
     "metadata": {},
     "outputs": []
    }
   ],
   "metadata": {}
  }
 ]
}